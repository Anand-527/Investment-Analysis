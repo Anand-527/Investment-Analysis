{
 "cells": [
  {
   "cell_type": "markdown",
   "metadata": {},
   "source": [
    "### 1) Importing necessary libraries"
   ]
  },
  {
   "cell_type": "code",
   "execution_count": 1,
   "metadata": {
    "scrolled": true
   },
   "outputs": [],
   "source": [
    "import pandas as pd\n",
    "import numpy as np\n",
    "\n",
    "import seaborn as sns\n",
    "# Seaborn tend to have different warnings\n",
    "import warnings\n",
    "warnings.filterwarnings(\"ignore\")  \n",
    "\n",
    "import matplotlib.pyplot as plt\n",
    "%matplotlib inline\n",
    "\n",
    "import plotly.express as px\n",
    "\n",
    "# Code to get multiple outputs from a single cell\n",
    "from IPython.core.interactiveshell import InteractiveShell\n",
    "InteractiveShell.ast_node_interactivity = \"all\""
   ]
  },
  {
   "cell_type": "markdown",
   "metadata": {},
   "source": [
    "# CHECK-POINT-1\n",
    "### 2) Importing Companies and rounds2 files"
   ]
  },
  {
   "cell_type": "code",
   "execution_count": 2,
   "metadata": {
    "scrolled": true
   },
   "outputs": [],
   "source": [
    "companies = pd.read_csv(\"companies.csv\",encoding = \"palmos\")\n",
    "rounds2 = pd.read_csv(\"rounds2.csv\",encoding = \"palmos\")"
   ]
  },
  {
   "cell_type": "markdown",
   "metadata": {},
   "source": [
    "### 3) Converting the company links to upper case"
   ]
  },
  {
   "cell_type": "code",
   "execution_count": 3,
   "metadata": {
    "scrolled": true
   },
   "outputs": [
    {
     "data": {
      "text/plain": [
       "count                       114949\n",
       "unique                       66368\n",
       "top       /ORGANIZATION/SOLARFLARE\n",
       "freq                            19\n",
       "Name: company_permalink, dtype: object"
      ]
     },
     "execution_count": 3,
     "metadata": {},
     "output_type": "execute_result"
    }
   ],
   "source": [
    "rounds2['company_permalink'] = rounds2['company_permalink'].str.upper()\n",
    "rounds2['company_permalink'].describe()"
   ]
  },
  {
   "cell_type": "code",
   "execution_count": 4,
   "metadata": {
    "scrolled": false
   },
   "outputs": [
    {
     "data": {
      "text/plain": [
       "count                                           66368\n",
       "unique                                          66368\n",
       "top       /ORGANIZATION/JIUBANG-DIGITAL-TECHNOLOGY-CO\n",
       "freq                                                1\n",
       "Name: permalink, dtype: object"
      ]
     },
     "execution_count": 4,
     "metadata": {},
     "output_type": "execute_result"
    }
   ],
   "source": [
    "companies['permalink'] = companies['permalink'].str.upper()\n",
    "companies['permalink'].describe()"
   ]
  },
  {
   "cell_type": "markdown",
   "metadata": {},
   "source": [
    "### 4) Checking whether all companie(s) are present in 2 files"
   ]
  },
  {
   "cell_type": "code",
   "execution_count": 5,
   "metadata": {
    "scrolled": true
   },
   "outputs": [
    {
     "data": {
      "text/plain": [
       "True    66368\n",
       "Name: permalink, dtype: int64"
      ]
     },
     "execution_count": 5,
     "metadata": {},
     "output_type": "execute_result"
    }
   ],
   "source": [
    "# Comparing rounds2 with companies\n",
    "companies['permalink'].isin(rounds2['company_permalink']).value_counts()"
   ]
  },
  {
   "cell_type": "code",
   "execution_count": 6,
   "metadata": {
    "scrolled": true
   },
   "outputs": [
    {
     "data": {
      "text/plain": [
       "True    114949\n",
       "Name: company_permalink, dtype: int64"
      ]
     },
     "execution_count": 6,
     "metadata": {},
     "output_type": "execute_result"
    }
   ],
   "source": [
    "# Comparing companies with rounds2\n",
    "rounds2['company_permalink'].isin(companies['permalink']).value_counts()"
   ]
  },
  {
   "cell_type": "markdown",
   "metadata": {},
   "source": [
    "### 5) Merging the 2 data frames to 'master_frame'"
   ]
  },
  {
   "cell_type": "code",
   "execution_count": 7,
   "metadata": {
    "scrolled": false
   },
   "outputs": [
    {
     "name": "stdout",
     "output_type": "stream",
     "text": [
      "<class 'pandas.core.frame.DataFrame'>\n",
      "Int64Index: 114949 entries, 0 to 114948\n",
      "Data columns (total 15 columns):\n",
      " #   Column                   Non-Null Count   Dtype  \n",
      "---  ------                   --------------   -----  \n",
      " 0   permalink                114949 non-null  object \n",
      " 1   name                     114948 non-null  object \n",
      " 2   homepage_url             108815 non-null  object \n",
      " 3   category_list            111539 non-null  object \n",
      " 4   status                   114949 non-null  object \n",
      " 5   country_code             106271 non-null  object \n",
      " 6   state_code               104003 non-null  object \n",
      " 7   region                   104782 non-null  object \n",
      " 8   city                     104785 non-null  object \n",
      " 9   founded_at               94428 non-null   object \n",
      " 10  funding_round_permalink  114949 non-null  object \n",
      " 11  funding_round_type       114949 non-null  object \n",
      " 12  funding_round_code       31140 non-null   object \n",
      " 13  funded_at                114949 non-null  object \n",
      " 14  raised_amount_usd        94959 non-null   float64\n",
      "dtypes: float64(1), object(14)\n",
      "memory usage: 14.0+ MB\n"
     ]
    }
   ],
   "source": [
    "# Renaming column name 'company_permalink' to 'permalink' in rounds2\n",
    "rounds2.rename(columns = {'company_permalink':'permalink'}, inplace = True)\n",
    "\n",
    "# Merging companies and rounds2\n",
    "master_frame = pd.merge(companies,rounds2, how = 'outer', on = 'permalink')\n",
    "master_frame.info()  "
   ]
  },
  {
   "cell_type": "code",
   "execution_count": 8,
   "metadata": {
    "scrolled": true
   },
   "outputs": [],
   "source": [
    "#no. of observartions = 15"
   ]
  },
  {
   "cell_type": "markdown",
   "metadata": {},
   "source": [
    "# CHECK-POINT-2"
   ]
  },
  {
   "cell_type": "code",
   "execution_count": 9,
   "metadata": {
    "scrolled": false
   },
   "outputs": [
    {
     "data": {
      "text/html": [
       "<div>\n",
       "<style scoped>\n",
       "    .dataframe tbody tr th:only-of-type {\n",
       "        vertical-align: middle;\n",
       "    }\n",
       "\n",
       "    .dataframe tbody tr th {\n",
       "        vertical-align: top;\n",
       "    }\n",
       "\n",
       "    .dataframe thead tr th {\n",
       "        text-align: left;\n",
       "    }\n",
       "\n",
       "    .dataframe thead tr:last-of-type th {\n",
       "        text-align: right;\n",
       "    }\n",
       "</style>\n",
       "<table border=\"1\" class=\"dataframe\">\n",
       "  <thead>\n",
       "    <tr>\n",
       "      <th></th>\n",
       "      <th colspan=\"8\" halign=\"left\">raised_amount_usd</th>\n",
       "    </tr>\n",
       "    <tr>\n",
       "      <th></th>\n",
       "      <th>count</th>\n",
       "      <th>mean</th>\n",
       "      <th>std</th>\n",
       "      <th>min</th>\n",
       "      <th>25%</th>\n",
       "      <th>50%</th>\n",
       "      <th>75%</th>\n",
       "      <th>max</th>\n",
       "    </tr>\n",
       "    <tr>\n",
       "      <th>funding_round_type</th>\n",
       "      <th></th>\n",
       "      <th></th>\n",
       "      <th></th>\n",
       "      <th></th>\n",
       "      <th></th>\n",
       "      <th></th>\n",
       "      <th></th>\n",
       "      <th></th>\n",
       "    </tr>\n",
       "  </thead>\n",
       "  <tbody>\n",
       "    <tr>\n",
       "      <th>angel</th>\n",
       "      <td>4860.0</td>\n",
       "      <td>9.586945e+05</td>\n",
       "      <td>7.404397e+06</td>\n",
       "      <td>0.0</td>\n",
       "      <td>150000.00</td>\n",
       "      <td>400000.0</td>\n",
       "      <td>1000000.0</td>\n",
       "      <td>4.945120e+08</td>\n",
       "    </tr>\n",
       "    <tr>\n",
       "      <th>convertible_note</th>\n",
       "      <td>1447.0</td>\n",
       "      <td>1.453439e+06</td>\n",
       "      <td>8.043846e+06</td>\n",
       "      <td>0.0</td>\n",
       "      <td>78847.50</td>\n",
       "      <td>272000.0</td>\n",
       "      <td>1000000.0</td>\n",
       "      <td>1.850483e+08</td>\n",
       "    </tr>\n",
       "    <tr>\n",
       "      <th>debt_financing</th>\n",
       "      <td>6682.0</td>\n",
       "      <td>1.704353e+07</td>\n",
       "      <td>2.803204e+08</td>\n",
       "      <td>0.0</td>\n",
       "      <td>330484.25</td>\n",
       "      <td>1100000.0</td>\n",
       "      <td>4000000.0</td>\n",
       "      <td>2.127194e+10</td>\n",
       "    </tr>\n",
       "    <tr>\n",
       "      <th>equity_crowdfunding</th>\n",
       "      <td>1228.0</td>\n",
       "      <td>5.383682e+05</td>\n",
       "      <td>1.719329e+06</td>\n",
       "      <td>0.0</td>\n",
       "      <td>7000.00</td>\n",
       "      <td>100000.0</td>\n",
       "      <td>395901.0</td>\n",
       "      <td>2.740000e+07</td>\n",
       "    </tr>\n",
       "    <tr>\n",
       "      <th>grant</th>\n",
       "      <td>2124.0</td>\n",
       "      <td>4.300576e+06</td>\n",
       "      <td>2.558742e+07</td>\n",
       "      <td>0.0</td>\n",
       "      <td>50000.00</td>\n",
       "      <td>201684.0</td>\n",
       "      <td>1700000.0</td>\n",
       "      <td>7.500000e+08</td>\n",
       "    </tr>\n",
       "    <tr>\n",
       "      <th>non_equity_assistance</th>\n",
       "      <td>73.0</td>\n",
       "      <td>4.112031e+05</td>\n",
       "      <td>1.771747e+06</td>\n",
       "      <td>0.0</td>\n",
       "      <td>25000.00</td>\n",
       "      <td>60000.0</td>\n",
       "      <td>125000.0</td>\n",
       "      <td>1.500000e+07</td>\n",
       "    </tr>\n",
       "    <tr>\n",
       "      <th>post_ipo_debt</th>\n",
       "      <td>152.0</td>\n",
       "      <td>1.687046e+08</td>\n",
       "      <td>6.024738e+08</td>\n",
       "      <td>70000.0</td>\n",
       "      <td>4000000.00</td>\n",
       "      <td>19950000.0</td>\n",
       "      <td>60000000.0</td>\n",
       "      <td>5.800000e+09</td>\n",
       "    </tr>\n",
       "    <tr>\n",
       "      <th>post_ipo_equity</th>\n",
       "      <td>628.0</td>\n",
       "      <td>8.218249e+07</td>\n",
       "      <td>4.691889e+08</td>\n",
       "      <td>77.0</td>\n",
       "      <td>3764794.00</td>\n",
       "      <td>12262852.5</td>\n",
       "      <td>40000000.0</td>\n",
       "      <td>1.066494e+10</td>\n",
       "    </tr>\n",
       "    <tr>\n",
       "      <th>private_equity</th>\n",
       "      <td>1936.0</td>\n",
       "      <td>7.330859e+07</td>\n",
       "      <td>1.981135e+08</td>\n",
       "      <td>0.0</td>\n",
       "      <td>5000000.00</td>\n",
       "      <td>20000000.0</td>\n",
       "      <td>75000000.0</td>\n",
       "      <td>4.745460e+09</td>\n",
       "    </tr>\n",
       "    <tr>\n",
       "      <th>product_crowdfunding</th>\n",
       "      <td>386.0</td>\n",
       "      <td>1.363131e+06</td>\n",
       "      <td>4.698380e+06</td>\n",
       "      <td>0.0</td>\n",
       "      <td>40241.75</td>\n",
       "      <td>183915.0</td>\n",
       "      <td>735000.0</td>\n",
       "      <td>5.200000e+07</td>\n",
       "    </tr>\n",
       "    <tr>\n",
       "      <th>secondary_market</th>\n",
       "      <td>30.0</td>\n",
       "      <td>7.964963e+07</td>\n",
       "      <td>1.401038e+08</td>\n",
       "      <td>2323.0</td>\n",
       "      <td>5025000.00</td>\n",
       "      <td>32600000.0</td>\n",
       "      <td>84475000.0</td>\n",
       "      <td>6.806116e+08</td>\n",
       "    </tr>\n",
       "    <tr>\n",
       "      <th>seed</th>\n",
       "      <td>23603.0</td>\n",
       "      <td>7.198180e+05</td>\n",
       "      <td>2.221733e+06</td>\n",
       "      <td>0.0</td>\n",
       "      <td>55000.00</td>\n",
       "      <td>275000.0</td>\n",
       "      <td>1000000.0</td>\n",
       "      <td>2.000000e+08</td>\n",
       "    </tr>\n",
       "    <tr>\n",
       "      <th>undisclosed</th>\n",
       "      <td>1582.0</td>\n",
       "      <td>1.924237e+07</td>\n",
       "      <td>1.993238e+08</td>\n",
       "      <td>0.0</td>\n",
       "      <td>220000.00</td>\n",
       "      <td>1018680.0</td>\n",
       "      <td>4848804.0</td>\n",
       "      <td>5.000000e+09</td>\n",
       "    </tr>\n",
       "    <tr>\n",
       "      <th>venture</th>\n",
       "      <td>50228.0</td>\n",
       "      <td>1.174895e+07</td>\n",
       "      <td>8.635207e+07</td>\n",
       "      <td>0.0</td>\n",
       "      <td>1600901.75</td>\n",
       "      <td>5000000.0</td>\n",
       "      <td>12000000.0</td>\n",
       "      <td>1.760000e+10</td>\n",
       "    </tr>\n",
       "  </tbody>\n",
       "</table>\n",
       "</div>"
      ],
      "text/plain": [
       "                      raised_amount_usd                                       \\\n",
       "                                  count          mean           std      min   \n",
       "funding_round_type                                                             \n",
       "angel                            4860.0  9.586945e+05  7.404397e+06      0.0   \n",
       "convertible_note                 1447.0  1.453439e+06  8.043846e+06      0.0   \n",
       "debt_financing                   6682.0  1.704353e+07  2.803204e+08      0.0   \n",
       "equity_crowdfunding              1228.0  5.383682e+05  1.719329e+06      0.0   \n",
       "grant                            2124.0  4.300576e+06  2.558742e+07      0.0   \n",
       "non_equity_assistance              73.0  4.112031e+05  1.771747e+06      0.0   \n",
       "post_ipo_debt                     152.0  1.687046e+08  6.024738e+08  70000.0   \n",
       "post_ipo_equity                   628.0  8.218249e+07  4.691889e+08     77.0   \n",
       "private_equity                   1936.0  7.330859e+07  1.981135e+08      0.0   \n",
       "product_crowdfunding              386.0  1.363131e+06  4.698380e+06      0.0   \n",
       "secondary_market                   30.0  7.964963e+07  1.401038e+08   2323.0   \n",
       "seed                            23603.0  7.198180e+05  2.221733e+06      0.0   \n",
       "undisclosed                      1582.0  1.924237e+07  1.993238e+08      0.0   \n",
       "venture                         50228.0  1.174895e+07  8.635207e+07      0.0   \n",
       "\n",
       "                                                                         \n",
       "                              25%         50%         75%           max  \n",
       "funding_round_type                                                       \n",
       "angel                   150000.00    400000.0   1000000.0  4.945120e+08  \n",
       "convertible_note         78847.50    272000.0   1000000.0  1.850483e+08  \n",
       "debt_financing          330484.25   1100000.0   4000000.0  2.127194e+10  \n",
       "equity_crowdfunding       7000.00    100000.0    395901.0  2.740000e+07  \n",
       "grant                    50000.00    201684.0   1700000.0  7.500000e+08  \n",
       "non_equity_assistance    25000.00     60000.0    125000.0  1.500000e+07  \n",
       "post_ipo_debt          4000000.00  19950000.0  60000000.0  5.800000e+09  \n",
       "post_ipo_equity        3764794.00  12262852.5  40000000.0  1.066494e+10  \n",
       "private_equity         5000000.00  20000000.0  75000000.0  4.745460e+09  \n",
       "product_crowdfunding     40241.75    183915.0    735000.0  5.200000e+07  \n",
       "secondary_market       5025000.00  32600000.0  84475000.0  6.806116e+08  \n",
       "seed                     55000.00    275000.0   1000000.0  2.000000e+08  \n",
       "undisclosed             220000.00   1018680.0   4848804.0  5.000000e+09  \n",
       "venture                1600901.75   5000000.0  12000000.0  1.760000e+10  "
      ]
     },
     "execution_count": 9,
     "metadata": {},
     "output_type": "execute_result"
    }
   ],
   "source": [
    "# Knowing the funding types\n",
    "master_frame.groupby(['funding_round_type']).describe()"
   ]
  },
  {
   "cell_type": "markdown",
   "metadata": {},
   "source": [
    "### 6) Filtering the columns with \"angel\",\"venture\",\"seed\" and \"private_equity\""
   ]
  },
  {
   "cell_type": "code",
   "execution_count": 10,
   "metadata": {
    "scrolled": true
   },
   "outputs": [],
   "source": [
    "mf_g4 = master_frame[master_frame['funding_round_type'].isin([\"angel\",\"venture\",\"seed\",\"private_equity\"])]"
   ]
  },
  {
   "cell_type": "code",
   "execution_count": 11,
   "metadata": {
    "scrolled": false
   },
   "outputs": [
    {
     "data": {
      "text/html": [
       "<div>\n",
       "<style scoped>\n",
       "    .dataframe tbody tr th:only-of-type {\n",
       "        vertical-align: middle;\n",
       "    }\n",
       "\n",
       "    .dataframe tbody tr th {\n",
       "        vertical-align: top;\n",
       "    }\n",
       "\n",
       "    .dataframe thead tr th {\n",
       "        text-align: left;\n",
       "    }\n",
       "\n",
       "    .dataframe thead tr:last-of-type th {\n",
       "        text-align: right;\n",
       "    }\n",
       "</style>\n",
       "<table border=\"1\" class=\"dataframe\">\n",
       "  <thead>\n",
       "    <tr>\n",
       "      <th></th>\n",
       "      <th colspan=\"8\" halign=\"left\">raised_amount_usd</th>\n",
       "    </tr>\n",
       "    <tr>\n",
       "      <th></th>\n",
       "      <th>count</th>\n",
       "      <th>mean</th>\n",
       "      <th>std</th>\n",
       "      <th>min</th>\n",
       "      <th>25%</th>\n",
       "      <th>50%</th>\n",
       "      <th>75%</th>\n",
       "      <th>max</th>\n",
       "    </tr>\n",
       "    <tr>\n",
       "      <th>funding_round_type</th>\n",
       "      <th></th>\n",
       "      <th></th>\n",
       "      <th></th>\n",
       "      <th></th>\n",
       "      <th></th>\n",
       "      <th></th>\n",
       "      <th></th>\n",
       "      <th></th>\n",
       "    </tr>\n",
       "  </thead>\n",
       "  <tbody>\n",
       "    <tr>\n",
       "      <th>angel</th>\n",
       "      <td>4860.0</td>\n",
       "      <td>9.586945e+05</td>\n",
       "      <td>7.404397e+06</td>\n",
       "      <td>0.0</td>\n",
       "      <td>150000.00</td>\n",
       "      <td>400000.0</td>\n",
       "      <td>1000000.0</td>\n",
       "      <td>4.945120e+08</td>\n",
       "    </tr>\n",
       "    <tr>\n",
       "      <th>private_equity</th>\n",
       "      <td>1936.0</td>\n",
       "      <td>7.330859e+07</td>\n",
       "      <td>1.981135e+08</td>\n",
       "      <td>0.0</td>\n",
       "      <td>5000000.00</td>\n",
       "      <td>20000000.0</td>\n",
       "      <td>75000000.0</td>\n",
       "      <td>4.745460e+09</td>\n",
       "    </tr>\n",
       "    <tr>\n",
       "      <th>seed</th>\n",
       "      <td>23603.0</td>\n",
       "      <td>7.198180e+05</td>\n",
       "      <td>2.221733e+06</td>\n",
       "      <td>0.0</td>\n",
       "      <td>55000.00</td>\n",
       "      <td>275000.0</td>\n",
       "      <td>1000000.0</td>\n",
       "      <td>2.000000e+08</td>\n",
       "    </tr>\n",
       "    <tr>\n",
       "      <th>venture</th>\n",
       "      <td>50228.0</td>\n",
       "      <td>1.174895e+07</td>\n",
       "      <td>8.635207e+07</td>\n",
       "      <td>0.0</td>\n",
       "      <td>1600901.75</td>\n",
       "      <td>5000000.0</td>\n",
       "      <td>12000000.0</td>\n",
       "      <td>1.760000e+10</td>\n",
       "    </tr>\n",
       "  </tbody>\n",
       "</table>\n",
       "</div>"
      ],
      "text/plain": [
       "                   raised_amount_usd                                   \\\n",
       "                               count          mean           std  min   \n",
       "funding_round_type                                                      \n",
       "angel                         4860.0  9.586945e+05  7.404397e+06  0.0   \n",
       "private_equity                1936.0  7.330859e+07  1.981135e+08  0.0   \n",
       "seed                         23603.0  7.198180e+05  2.221733e+06  0.0   \n",
       "venture                      50228.0  1.174895e+07  8.635207e+07  0.0   \n",
       "\n",
       "                                                                      \n",
       "                           25%         50%         75%           max  \n",
       "funding_round_type                                                    \n",
       "angel                150000.00    400000.0   1000000.0  4.945120e+08  \n",
       "private_equity      5000000.00  20000000.0  75000000.0  4.745460e+09  \n",
       "seed                  55000.00    275000.0   1000000.0  2.000000e+08  \n",
       "venture             1600901.75   5000000.0  12000000.0  1.760000e+10  "
      ]
     },
     "execution_count": 11,
     "metadata": {},
     "output_type": "execute_result"
    }
   ],
   "source": [
    "mf_g4.groupby(['funding_round_type']).describe()"
   ]
  },
  {
   "cell_type": "markdown",
   "metadata": {},
   "source": [
    "### 7) Removing the missing values from 'master_frame' for 'raised_amount_usd'"
   ]
  },
  {
   "cell_type": "code",
   "execution_count": 12,
   "metadata": {
    "scrolled": false
   },
   "outputs": [
    {
     "name": "stdout",
     "output_type": "stream",
     "text": [
      "<class 'pandas.core.frame.DataFrame'>\n",
      "Int64Index: 80627 entries, 0 to 114947\n",
      "Data columns (total 15 columns):\n",
      " #   Column                   Non-Null Count  Dtype  \n",
      "---  ------                   --------------  -----  \n",
      " 0   permalink                80627 non-null  object \n",
      " 1   name                     80626 non-null  object \n",
      " 2   homepage_url             77182 non-null  object \n",
      " 3   category_list            79772 non-null  object \n",
      " 4   status                   80627 non-null  object \n",
      " 5   country_code             75606 non-null  object \n",
      " 6   state_code               74055 non-null  object \n",
      " 7   region                   74564 non-null  object \n",
      " 8   city                     74567 non-null  object \n",
      " 9   founded_at               67181 non-null  object \n",
      " 10  funding_round_permalink  80627 non-null  object \n",
      " 11  funding_round_type       80627 non-null  object \n",
      " 12  funding_round_code       28153 non-null  object \n",
      " 13  funded_at                80627 non-null  object \n",
      " 14  raised_amount_usd        80627 non-null  float64\n",
      "dtypes: float64(1), object(14)\n",
      "memory usage: 9.8+ MB\n"
     ]
    }
   ],
   "source": [
    "mf_g4 = mf_g4[~(mf_g4['raised_amount_usd'].isna())]\n",
    "mf_g4.info()"
   ]
  },
  {
   "cell_type": "markdown",
   "metadata": {},
   "source": [
    "## Investment type analysis"
   ]
  },
  {
   "cell_type": "markdown",
   "metadata": {},
   "source": [
    "### 8) Analyzing data before removing outliers"
   ]
  },
  {
   "cell_type": "code",
   "execution_count": 13,
   "metadata": {
    "scrolled": true
   },
   "outputs": [
    {
     "data": {
      "text/plain": [
       "count    5.019900e+04\n",
       "mean     1.175574e+07\n",
       "std      8.637654e+07\n",
       "min      1.000000e+00\n",
       "25%      1.610000e+06\n",
       "50%      5.000000e+06\n",
       "75%      1.200000e+07\n",
       "max      1.760000e+10\n",
       "Name: raised_amount_usd, dtype: float64"
      ]
     },
     "execution_count": 13,
     "metadata": {},
     "output_type": "execute_result"
    }
   ],
   "source": [
    "# Filtering mf_g4 with 'venture' and 'raised_amount_usd' greater than 0.\n",
    "mf_g4[(mf_g4[\"funding_round_type\"] == \"venture\") & (mf_g4[\"raised_amount_usd\"]>0 )][\"raised_amount_usd\"].describe()"
   ]
  },
  {
   "cell_type": "code",
   "execution_count": 14,
   "metadata": {
    "scrolled": true
   },
   "outputs": [
    {
     "data": {
      "text/plain": [
       "count    4.829000e+03\n",
       "mean     9.648489e+05\n",
       "std      7.427731e+06\n",
       "min      1.200000e+01\n",
       "25%      1.500000e+05\n",
       "50%      4.000000e+05\n",
       "75%      1.000000e+06\n",
       "max      4.945120e+08\n",
       "Name: raised_amount_usd, dtype: float64"
      ]
     },
     "execution_count": 14,
     "metadata": {},
     "output_type": "execute_result"
    }
   ],
   "source": [
    "# Filtering mf_g4 with 'angel' and 'raised_amount_usd' greater than 0.\n",
    "mf_g4[(mf_g4[\"funding_round_type\"] == \"angel\") & (mf_g4[\"raised_amount_usd\"]>0 )][\"raised_amount_usd\"].describe()"
   ]
  },
  {
   "cell_type": "code",
   "execution_count": 15,
   "metadata": {
    "scrolled": true
   },
   "outputs": [
    {
     "data": {
      "text/plain": [
       "count    2.350800e+04\n",
       "mean     7.227269e+05\n",
       "std      2.225745e+06\n",
       "min      1.000000e+00\n",
       "25%      5.911075e+04\n",
       "50%      2.800000e+05\n",
       "75%      1.000000e+06\n",
       "max      2.000000e+08\n",
       "Name: raised_amount_usd, dtype: float64"
      ]
     },
     "execution_count": 15,
     "metadata": {},
     "output_type": "execute_result"
    }
   ],
   "source": [
    "# Filtering mf_g4 with 'seed' and 'raised_amount_usd' greater than 0.\n",
    "mf_g4[(mf_g4[\"funding_round_type\"] == \"seed\") & (mf_g4[\"raised_amount_usd\"]>0 )][\"raised_amount_usd\"].describe()"
   ]
  },
  {
   "cell_type": "code",
   "execution_count": 16,
   "metadata": {
    "scrolled": true
   },
   "outputs": [
    {
     "data": {
      "text/plain": [
       "count    1.933000e+03\n",
       "mean     7.342237e+07\n",
       "std      1.982461e+08\n",
       "min      6.000000e+00\n",
       "25%      5.000000e+06\n",
       "50%      2.000000e+07\n",
       "75%      7.500000e+07\n",
       "max      4.745460e+09\n",
       "Name: raised_amount_usd, dtype: float64"
      ]
     },
     "execution_count": 16,
     "metadata": {},
     "output_type": "execute_result"
    }
   ],
   "source": [
    "# Filtering mf_g4 with 'private_equity' and 'raised_amount_usd' greater than 0.\n",
    "mf_g4[(mf_g4[\"funding_round_type\"] == \"private_equity\") & (mf_g4[\"raised_amount_usd\"]>0 )][\"raised_amount_usd\"].describe()"
   ]
  },
  {
   "cell_type": "markdown",
   "metadata": {},
   "source": [
    "### 9) Deciding the representative funding amount after removing outliers"
   ]
  },
  {
   "cell_type": "markdown",
   "metadata": {},
   "source": [
    "#### 9.1) Deciding the representative funding amount for \"venture\""
   ]
  },
  {
   "cell_type": "code",
   "execution_count": 17,
   "metadata": {
    "scrolled": false
   },
   "outputs": [
    {
     "data": {
      "text/plain": [
       "50228"
      ]
     },
     "execution_count": 17,
     "metadata": {},
     "output_type": "execute_result"
    },
    {
     "data": {
      "text/plain": [
       "50199"
      ]
     },
     "execution_count": 17,
     "metadata": {},
     "output_type": "execute_result"
    },
    {
     "data": {
      "text/plain": [
       "<AxesSubplot:>"
      ]
     },
     "execution_count": 17,
     "metadata": {},
     "output_type": "execute_result"
    },
    {
     "data": {
      "image/png": "[encoded data removed]",
      "text/plain": [
       "<Figure size 432x288 with 1 Axes>"
      ]
     },
     "metadata": {
      "needs_background": "light"
     },
     "output_type": "display_data"
    }
   ],
   "source": [
    "# Getting number of investors in 'venture' type\n",
    "mf_g4[mf_g4[\"funding_round_type\"] == \"venture\"][\"raised_amount_usd\"].value_counts().sum()\n",
    "\n",
    "# Getting number of investors in 'venture' type with 'raised_amount_usd' greater than 0.\n",
    "mf_g4[(mf_g4[\"funding_round_type\"] == \"venture\") & (mf_g4[\"raised_amount_usd\"]>0 )][\"raised_amount_usd\"].value_counts().sum()\n",
    "\n",
    "# Boxplot to know sense of data\n",
    "mf_g4[mf_g4[\"funding_round_type\"] == \"venture\"][\"raised_amount_usd\"].plot.box()\n",
    "\n",
    "# Getting dataframe with 'venture' type and 'raised_amount_usd' greater than 0.\n",
    "Mv=mf_g4[(mf_g4[\"funding_round_type\"] == \"venture\") & (mf_g4[\"raised_amount_usd\"]>0 )]"
   ]
  },
  {
   "cell_type": "code",
   "execution_count": 18,
   "metadata": {
    "scrolled": false
   },
   "outputs": [
    {
     "name": "stdout",
     "output_type": "stream",
     "text": [
      "-13975000.0 27585000.0\n"
     ]
    }
   ],
   "source": [
    "q1=Mv[\"raised_amount_usd\"].quantile(0.25)\n",
    "q2=Mv[\"raised_amount_usd\"].quantile(0.75)\n",
    "IQR= q2-q1\n",
    "l = q1-1.5*IQR\n",
    "u = q2+1.5*IQR\n",
    "print(l,u)"
   ]
  },
  {
   "cell_type": "code",
   "execution_count": 19,
   "metadata": {
    "scrolled": false
   },
   "outputs": [
    {
     "data": {
      "text/plain": [
       "4324"
      ]
     },
     "execution_count": 19,
     "metadata": {},
     "output_type": "execute_result"
    },
    {
     "data": {
      "text/plain": [
       "30000000.0    556\n",
       "50000000.0    317\n",
       "40000000.0    292\n",
       "35000000.0    231\n",
       "60000000.0    129\n",
       "             ... \n",
       "42200000.0      1\n",
       "45345600.0      1\n",
       "45869000.0      1\n",
       "29360000.0      1\n",
       "38800000.0      1\n",
       "Name: raised_amount_usd, Length: 886, dtype: int64"
      ]
     },
     "execution_count": 19,
     "metadata": {},
     "output_type": "execute_result"
    },
    {
     "data": {
      "text/plain": [
       "0"
      ]
     },
     "execution_count": 19,
     "metadata": {},
     "output_type": "execute_result"
    },
    {
     "data": {
      "text/plain": [
       "Series([], Name: raised_amount_usd, dtype: int64)"
      ]
     },
     "execution_count": 19,
     "metadata": {},
     "output_type": "execute_result"
    },
    {
     "data": {
      "text/plain": [
       "10000000.0    1809\n",
       "5000000.0     1713\n",
       "3000000.0     1215\n",
       "2000000.0     1210\n",
       "1000000.0     1138\n",
       "              ... \n",
       "892990.0         1\n",
       "8192480.0        1\n",
       "190476.0         1\n",
       "1024044.0        1\n",
       "5.0              1\n",
       "Name: raised_amount_usd, Length: 11662, dtype: int64"
      ]
     },
     "execution_count": 19,
     "metadata": {},
     "output_type": "execute_result"
    },
    {
     "data": {
      "text/plain": [
       "count    4.587500e+04\n",
       "mean     6.434684e+06\n",
       "std      6.383854e+06\n",
       "min      1.000000e+00\n",
       "25%      1.500000e+06\n",
       "50%      4.223475e+06\n",
       "75%      1.000000e+07\n",
       "max      2.757661e+07\n",
       "Name: raised_amount_usd, dtype: float64"
      ]
     },
     "execution_count": 19,
     "metadata": {},
     "output_type": "execute_result"
    },
    {
     "data": {
      "text/plain": [
       "<AxesSubplot:>"
      ]
     },
     "execution_count": 19,
     "metadata": {},
     "output_type": "execute_result"
    },
    {
     "data": {
      "image/png": "[encoded data removed]",
      "text/plain": [
       "<Figure size 432x288 with 1 Axes>"
      ]
     },
     "metadata": {
      "needs_background": "light"
     },
     "output_type": "display_data"
    },
    {
     "data": {
      "text/plain": [
       "<AxesSubplot:ylabel='Frequency'>"
      ]
     },
     "execution_count": 19,
     "metadata": {},
     "output_type": "execute_result"
    },
    {
     "data": {
      "image/png": "[encoded data removed]",
      "text/plain": [
       "<Figure size 432x288 with 1 Axes>"
      ]
     },
     "metadata": {
      "needs_background": "light"
     },
     "output_type": "display_data"
    },
    {
     "data": {
      "text/plain": [
       "<AxesSubplot:xlabel='raised_amount_usd', ylabel='Density'>"
      ]
     },
     "execution_count": 19,
     "metadata": {},
     "output_type": "execute_result"
    },
    {
     "data": {
      "image/png": "[encoded data removed]",
      "text/plain": [
       "<Figure size 432x288 with 1 Axes>"
      ]
     },
     "metadata": {
      "needs_background": "light"
     },
     "output_type": "display_data"
    }
   ],
   "source": [
    "# Getting number of investors in 'venture' type with 'raised_amount_usd' less than lower extreme.\n",
    "Mv[Mv[\"raised_amount_usd\"]>=u][\"raised_amount_usd\"].value_counts().sum()\n",
    "Mv[Mv[\"raised_amount_usd\"]>=u][\"raised_amount_usd\"].value_counts()\n",
    "\n",
    "# Getting number of investors in 'venture' type with 'raised_amount_usd' greater than upper extreme.\n",
    "Mv[(Mv[\"raised_amount_usd\"]<=l)][\"raised_amount_usd\"].value_counts().sum()\n",
    "Mv[(Mv[\"raised_amount_usd\"]<=l)][\"raised_amount_usd\"].value_counts()\n",
    "\n",
    "# Getting some information of data in 'venture' type after removing outliers\n",
    "Mvo = Mv[(Mv[\"raised_amount_usd\"]>=l) & (Mv[\"raised_amount_usd\"]<=u)]\n",
    "Mv[(Mv[\"raised_amount_usd\"]>=l) & (Mv[\"raised_amount_usd\"]<=u)][\"raised_amount_usd\"].value_counts()\n",
    "Mv[(Mv[\"raised_amount_usd\"]>=l) & (Mv[\"raised_amount_usd\"]<=u)][\"raised_amount_usd\"].describe()\n",
    "\n",
    "\n",
    "# To visualize the scenario by plotting\n",
    "Mv[(Mv[\"raised_amount_usd\"]>=l) & (Mv[\"raised_amount_usd\"]<=u)][\"raised_amount_usd\"].plot.box()\n",
    "plt.show()\n",
    "\n",
    "Mv[(Mv[\"raised_amount_usd\"]>=l) & (Mv[\"raised_amount_usd\"]<=u)][\"raised_amount_usd\"].plot.hist()\n",
    "plt.show()\n",
    "\n",
    "sns.distplot(Mv[(Mv[\"raised_amount_usd\"]>=l) & (Mv[\"raised_amount_usd\"]<=u)][\"raised_amount_usd\"])\n",
    "plt.show()"
   ]
  },
  {
   "cell_type": "markdown",
   "metadata": {},
   "source": [
    "Considering representative funding amount for \"venture\" as 6.434684e+06 (mean from the above output)"
   ]
  },
  {
   "cell_type": "markdown",
   "metadata": {},
   "source": [
    "#### 9.2) Deciding the representative funding amount for \"angel\""
   ]
  },
  {
   "cell_type": "code",
   "execution_count": 20,
   "metadata": {
    "scrolled": false
   },
   "outputs": [
    {
     "data": {
      "text/plain": [
       "4860"
      ]
     },
     "execution_count": 20,
     "metadata": {},
     "output_type": "execute_result"
    },
    {
     "data": {
      "text/plain": [
       "4829"
      ]
     },
     "execution_count": 20,
     "metadata": {},
     "output_type": "execute_result"
    },
    {
     "data": {
      "text/plain": [
       "<AxesSubplot:>"
      ]
     },
     "execution_count": 20,
     "metadata": {},
     "output_type": "execute_result"
    },
    {
     "data": {
      "image/png": "[encoded data removed]",
      "text/plain": [
       "<Figure size 432x288 with 1 Axes>"
      ]
     },
     "metadata": {
      "needs_background": "light"
     },
     "output_type": "display_data"
    }
   ],
   "source": [
    "mf_g4[mf_g4[\"funding_round_type\"] == \"angel\"][\"raised_amount_usd\"].value_counts().sum()\n",
    "\n",
    "mf_g4[(mf_g4[\"funding_round_type\"] == \"angel\") & (mf_g4[\"raised_amount_usd\"]>0 )][\"raised_amount_usd\"].value_counts().sum()\n",
    "\n",
    "mf_g4[mf_g4[\"funding_round_type\"] == \"angel\"][\"raised_amount_usd\"].plot.box()\n",
    "\n",
    "Ma=mf_g4[(mf_g4[\"funding_round_type\"] == \"angel\") & (mf_g4[\"raised_amount_usd\"]>0 )]"
   ]
  },
  {
   "cell_type": "code",
   "execution_count": 21,
   "metadata": {
    "scrolled": false
   },
   "outputs": [
    {
     "name": "stdout",
     "output_type": "stream",
     "text": [
      "-1125000.0 2275000.0\n"
     ]
    }
   ],
   "source": [
    "q1=Ma[\"raised_amount_usd\"].quantile(0.25)\n",
    "q2=Ma[\"raised_amount_usd\"].quantile(0.75)\n",
    "IQR= q2-q1\n",
    "l = q1-1.5*IQR\n",
    "u = q2+1.5*IQR\n",
    "print(l,u)"
   ]
  },
  {
   "cell_type": "code",
   "execution_count": 22,
   "metadata": {
    "scrolled": false
   },
   "outputs": [
    {
     "data": {
      "text/plain": [
       "318"
      ]
     },
     "execution_count": 22,
     "metadata": {},
     "output_type": "execute_result"
    },
    {
     "data": {
      "text/plain": [
       "3000000.0     47\n",
       "2500000.0     35\n",
       "5000000.0     18\n",
       "4000000.0     16\n",
       "3500000.0     15\n",
       "              ..\n",
       "34000000.0     1\n",
       "3026134.0      1\n",
       "63590263.0     1\n",
       "2411840.0      1\n",
       "12804097.0     1\n",
       "Name: raised_amount_usd, Length: 123, dtype: int64"
      ]
     },
     "execution_count": 22,
     "metadata": {},
     "output_type": "execute_result"
    },
    {
     "data": {
      "text/plain": [
       "0"
      ]
     },
     "execution_count": 22,
     "metadata": {},
     "output_type": "execute_result"
    },
    {
     "data": {
      "text/plain": [
       "Series([], Name: raised_amount_usd, dtype: int64)"
      ]
     },
     "execution_count": 22,
     "metadata": {},
     "output_type": "execute_result"
    },
    {
     "data": {
      "text/plain": [
       "500000.0     276\n",
       "1000000.0    268\n",
       "100000.0     246\n",
       "250000.0     174\n",
       "300000.0     153\n",
       "            ... \n",
       "129690.0       1\n",
       "1239465.0      1\n",
       "99995.0        1\n",
       "537817.0       1\n",
       "268305.0       1\n",
       "Name: raised_amount_usd, Length: 1358, dtype: int64"
      ]
     },
     "execution_count": 22,
     "metadata": {},
     "output_type": "execute_result"
    },
    {
     "data": {
      "text/plain": [
       "count    4.511000e+03\n",
       "mean     5.369964e+05\n",
       "std      5.149583e+05\n",
       "min      1.200000e+01\n",
       "25%      1.500000e+05\n",
       "50%      3.522030e+05\n",
       "75%      7.730915e+05\n",
       "max      2.265394e+06\n",
       "Name: raised_amount_usd, dtype: float64"
      ]
     },
     "execution_count": 22,
     "metadata": {},
     "output_type": "execute_result"
    },
    {
     "data": {
      "text/plain": [
       "<AxesSubplot:>"
      ]
     },
     "execution_count": 22,
     "metadata": {},
     "output_type": "execute_result"
    },
    {
     "data": {
      "image/png": "[encoded data removed]",
      "text/plain": [
       "<Figure size 432x288 with 1 Axes>"
      ]
     },
     "metadata": {
      "needs_background": "light"
     },
     "output_type": "display_data"
    },
    {
     "data": {
      "text/plain": [
       "<AxesSubplot:ylabel='Frequency'>"
      ]
     },
     "execution_count": 22,
     "metadata": {},
     "output_type": "execute_result"
    },
    {
     "data": {
      "image/png": "[encoded data removed]",
      "text/plain": [
       "<Figure size 432x288 with 1 Axes>"
      ]
     },
     "metadata": {
      "needs_background": "light"
     },
     "output_type": "display_data"
    },
    {
     "data": {
      "text/plain": [
       "<AxesSubplot:xlabel='raised_amount_usd', ylabel='Density'>"
      ]
     },
     "execution_count": 22,
     "metadata": {},
     "output_type": "execute_result"
    },
    {
     "data": {
      "image/png": "[encoded data removed]",
      "text/plain": [
       "<Figure size 432x288 with 1 Axes>"
      ]
     },
     "metadata": {
      "needs_background": "light"
     },
     "output_type": "display_data"
    }
   ],
   "source": [
    "Ma[Ma[\"raised_amount_usd\"]>=u][\"raised_amount_usd\"].value_counts().sum()\n",
    "Ma[Ma[\"raised_amount_usd\"]>=u][\"raised_amount_usd\"].value_counts()\n",
    "\n",
    "Ma[(Ma[\"raised_amount_usd\"]<=l)][\"raised_amount_usd\"].value_counts().sum()\n",
    "Ma[(Ma[\"raised_amount_usd\"]<=l)][\"raised_amount_usd\"].value_counts()\n",
    "\n",
    "Mao = Ma[(Ma[\"raised_amount_usd\"]>=l) & (Ma[\"raised_amount_usd\"]<=u)]\n",
    "Ma[(Ma[\"raised_amount_usd\"]>=l) & (Ma[\"raised_amount_usd\"]<=u)][\"raised_amount_usd\"].value_counts()\n",
    "Ma[(Ma[\"raised_amount_usd\"]>=l) & (Ma[\"raised_amount_usd\"]<=u)][\"raised_amount_usd\"].describe()\n",
    "\n",
    "\n",
    "# To visualize the scenario\n",
    "Ma[(Ma[\"raised_amount_usd\"]>=l) & (Ma[\"raised_amount_usd\"]<=u)][\"raised_amount_usd\"].plot.box()\n",
    "plt.show()\n",
    "\n",
    "Ma[(Ma[\"raised_amount_usd\"]>=l) & (Ma[\"raised_amount_usd\"]<=u)][\"raised_amount_usd\"].plot.hist()\n",
    "plt.show()\n",
    "\n",
    "sns.distplot(Ma[(Ma[\"raised_amount_usd\"]>=l) & (Ma[\"raised_amount_usd\"]<=u)][\"raised_amount_usd\"])\n",
    "plt.show()"
   ]
  },
  {
   "cell_type": "markdown",
   "metadata": {},
   "source": [
    "Considering representative funding amount for \"angel\" as 5.369964e+05 (mean from the above output)"
   ]
  },
  {
   "cell_type": "markdown",
   "metadata": {},
   "source": [
    "#### 9.3) Deciding the representative funding amount for \"seed\""
   ]
  },
  {
   "cell_type": "code",
   "execution_count": 23,
   "metadata": {
    "scrolled": false
   },
   "outputs": [
    {
     "data": {
      "text/plain": [
       "23603"
      ]
     },
     "execution_count": 23,
     "metadata": {},
     "output_type": "execute_result"
    },
    {
     "data": {
      "text/plain": [
       "23508"
      ]
     },
     "execution_count": 23,
     "metadata": {},
     "output_type": "execute_result"
    },
    {
     "data": {
      "text/plain": [
       "<AxesSubplot:>"
      ]
     },
     "execution_count": 23,
     "metadata": {},
     "output_type": "execute_result"
    },
    {
     "data": {
      "image/png": "[encoded data removed]",
      "text/plain": [
       "<Figure size 432x288 with 1 Axes>"
      ]
     },
     "metadata": {
      "needs_background": "light"
     },
     "output_type": "display_data"
    }
   ],
   "source": [
    "mf_g4[mf_g4[\"funding_round_type\"] == \"seed\"][\"raised_amount_usd\"].value_counts().sum()\n",
    "mf_g4[(mf_g4[\"funding_round_type\"] == \"seed\") & (mf_g4[\"raised_amount_usd\"]>0 )][\"raised_amount_usd\"].value_counts().sum()\n",
    "mf_g4[mf_g4[\"funding_round_type\"] == \"seed\"][\"raised_amount_usd\"].plot.box()\n",
    "\n",
    "Ms=mf_g4[(mf_g4[\"funding_round_type\"] == \"seed\") & (mf_g4[\"raised_amount_usd\"]>0 )]"
   ]
  },
  {
   "cell_type": "code",
   "execution_count": 24,
   "metadata": {
    "scrolled": false
   },
   "outputs": [
    {
     "name": "stdout",
     "output_type": "stream",
     "text": [
      "-1352223.125 2411333.875\n"
     ]
    }
   ],
   "source": [
    "q1=Ms[\"raised_amount_usd\"].quantile(0.25)\n",
    "q2=Ms[\"raised_amount_usd\"].quantile(0.75)\n",
    "IQR= q2-q1\n",
    "l = q1-1.5*IQR\n",
    "u = q2+1.5*IQR\n",
    "print(l,u)"
   ]
  },
  {
   "cell_type": "code",
   "execution_count": 25,
   "metadata": {
    "scrolled": false
   },
   "outputs": [
    {
     "data": {
      "text/plain": [
       "1321"
      ]
     },
     "execution_count": 25,
     "metadata": {},
     "output_type": "execute_result"
    },
    {
     "data": {
      "text/plain": [
       "2500000.0    202\n",
       "3000000.0    189\n",
       "4000000.0     67\n",
       "5000000.0     55\n",
       "3500000.0     50\n",
       "            ... \n",
       "2512003.0      1\n",
       "5335323.0      1\n",
       "6900000.0      1\n",
       "3224766.0      1\n",
       "2793488.0      1\n",
       "Name: raised_amount_usd, Length: 370, dtype: int64"
      ]
     },
     "execution_count": 25,
     "metadata": {},
     "output_type": "execute_result"
    },
    {
     "data": {
      "text/plain": [
       "0"
      ]
     },
     "execution_count": 25,
     "metadata": {},
     "output_type": "execute_result"
    },
    {
     "data": {
      "text/plain": [
       "Series([], Name: raised_amount_usd, dtype: int64)"
      ]
     },
     "execution_count": 25,
     "metadata": {},
     "output_type": "execute_result"
    },
    {
     "data": {
      "text/plain": [
       "1000000.0    1065\n",
       "100000.0      963\n",
       "500000.0      960\n",
       "40000.0       837\n",
       "50000.0       823\n",
       "             ... \n",
       "152686.0        1\n",
       "1680239.0       1\n",
       "55860.0         1\n",
       "676246.0        1\n",
       "401304.0        1\n",
       "Name: raised_amount_usd, Length: 4602, dtype: int64"
      ]
     },
     "execution_count": 25,
     "metadata": {},
     "output_type": "execute_result"
    },
    {
     "data": {
      "text/plain": [
       "count    2.218700e+04\n",
       "mean     5.026031e+05\n",
       "std      5.794619e+05\n",
       "min      1.000000e+00\n",
       "25%      5.000000e+04\n",
       "50%      2.500000e+05\n",
       "75%      7.902620e+05\n",
       "max      2.410000e+06\n",
       "Name: raised_amount_usd, dtype: float64"
      ]
     },
     "execution_count": 25,
     "metadata": {},
     "output_type": "execute_result"
    },
    {
     "data": {
      "text/plain": [
       "<AxesSubplot:>"
      ]
     },
     "execution_count": 25,
     "metadata": {},
     "output_type": "execute_result"
    },
    {
     "data": {
      "image/png": "[encoded data removed]",
      "text/plain": [
       "<Figure size 432x288 with 1 Axes>"
      ]
     },
     "metadata": {
      "needs_background": "light"
     },
     "output_type": "display_data"
    },
    {
     "data": {
      "text/plain": [
       "<AxesSubplot:ylabel='Frequency'>"
      ]
     },
     "execution_count": 25,
     "metadata": {},
     "output_type": "execute_result"
    },
    {
     "data": {
      "image/png": "[encoded data removed]",
      "text/plain": [
       "<Figure size 432x288 with 1 Axes>"
      ]
     },
     "metadata": {
      "needs_background": "light"
     },
     "output_type": "display_data"
    },
    {
     "data": {
      "text/plain": [
       "<AxesSubplot:xlabel='raised_amount_usd', ylabel='Density'>"
      ]
     },
     "execution_count": 25,
     "metadata": {},
     "output_type": "execute_result"
    },
    {
     "data": {
      "image/png": "[encoded data removed]",
      "text/plain": [
       "<Figure size 432x288 with 1 Axes>"
      ]
     },
     "metadata": {
      "needs_background": "light"
     },
     "output_type": "display_data"
    }
   ],
   "source": [
    "Ms[Ms[\"raised_amount_usd\"]>=u][\"raised_amount_usd\"].value_counts().sum()\n",
    "Ms[Ms[\"raised_amount_usd\"]>=u][\"raised_amount_usd\"].value_counts()\n",
    "\n",
    "Ms[(Ms[\"raised_amount_usd\"]<=l)][\"raised_amount_usd\"].value_counts().sum()\n",
    "Ms[(Ms[\"raised_amount_usd\"]<=l)][\"raised_amount_usd\"].value_counts()\n",
    "\n",
    "Mso=Ms[(Ms[\"raised_amount_usd\"]>=l) & (Ms[\"raised_amount_usd\"]<=u)]\n",
    "Ms[(Ms[\"raised_amount_usd\"]>=l) & (Ms[\"raised_amount_usd\"]<=u)][\"raised_amount_usd\"].value_counts()\n",
    "Ms[(Ms[\"raised_amount_usd\"]>=l) & (Ms[\"raised_amount_usd\"]<=u)][\"raised_amount_usd\"].describe()\n",
    "\n",
    "\n",
    "# To visualize the scenario\n",
    "Ms[(Ms[\"raised_amount_usd\"]>=l) & (Ms[\"raised_amount_usd\"]<=u)][\"raised_amount_usd\"].plot.box()\n",
    "plt.show()\n",
    "\n",
    "Ms[(Ms[\"raised_amount_usd\"]>=l) & (Ms[\"raised_amount_usd\"]<=u)][\"raised_amount_usd\"].plot.hist()\n",
    "plt.show()\n",
    "\n",
    "sns.distplot(Ms[(Ms[\"raised_amount_usd\"]>=l) & (Ms[\"raised_amount_usd\"]<=u)][\"raised_amount_usd\"])\n",
    "plt.show()"
   ]
  },
  {
   "cell_type": "markdown",
   "metadata": {},
   "source": [
    "Considering representative funding amount for \"seed\" as 5.026031e+05 (mean from the above output)"
   ]
  },
  {
   "cell_type": "markdown",
   "metadata": {},
   "source": [
    "#### 9.4) Deciding the representative funding amount for \"private_equity\""
   ]
  },
  {
   "cell_type": "code",
   "execution_count": 26,
   "metadata": {
    "scrolled": false
   },
   "outputs": [
    {
     "data": {
      "text/plain": [
       "1936"
      ]
     },
     "execution_count": 26,
     "metadata": {},
     "output_type": "execute_result"
    },
    {
     "data": {
      "text/plain": [
       "1933"
      ]
     },
     "execution_count": 26,
     "metadata": {},
     "output_type": "execute_result"
    },
    {
     "data": {
      "text/plain": [
       "<AxesSubplot:>"
      ]
     },
     "execution_count": 26,
     "metadata": {},
     "output_type": "execute_result"
    },
    {
     "data": {
      "image/png": "[encoded data removed]",
      "text/plain": [
       "<Figure size 432x288 with 1 Axes>"
      ]
     },
     "metadata": {
      "needs_background": "light"
     },
     "output_type": "display_data"
    }
   ],
   "source": [
    "mf_g4[mf_g4[\"funding_round_type\"] == \"private_equity\"][\"raised_amount_usd\"].value_counts().sum()\n",
    "mf_g4[(mf_g4[\"funding_round_type\"] == \"private_equity\") & (mf_g4[\"raised_amount_usd\"]>0 )][\"raised_amount_usd\"].value_counts().sum()\n",
    "mf_g4[mf_g4[\"funding_round_type\"] == \"private_equity\"][\"raised_amount_usd\"].plot.box()\n",
    "\n",
    "Me=mf_g4[(mf_g4[\"funding_round_type\"] == \"private_equity\") & (mf_g4[\"raised_amount_usd\"]>0 )]"
   ]
  },
  {
   "cell_type": "code",
   "execution_count": 27,
   "metadata": {
    "scrolled": false
   },
   "outputs": [
    {
     "name": "stdout",
     "output_type": "stream",
     "text": [
      "-100000000.0 180000000.0\n"
     ]
    }
   ],
   "source": [
    "q1=Me[\"raised_amount_usd\"].quantile(0.25)\n",
    "q2=Me[\"raised_amount_usd\"].quantile(0.75)\n",
    "IQR= q2-q1\n",
    "l = q1-1.5*IQR\n",
    "u = q2+1.5*IQR\n",
    "print(l,u)"
   ]
  },
  {
   "cell_type": "code",
   "execution_count": 28,
   "metadata": {
    "scrolled": false
   },
   "outputs": [
    {
     "data": {
      "text/plain": [
       "179"
      ]
     },
     "execution_count": 28,
     "metadata": {},
     "output_type": "execute_result"
    },
    {
     "data": {
      "text/plain": [
       "200000000.0    22\n",
       "250000000.0    18\n",
       "300000000.0    15\n",
       "500000000.0     8\n",
       "400000000.0     5\n",
       "               ..\n",
       "422000000.0     1\n",
       "395000000.0     1\n",
       "210899993.0     1\n",
       "833000000.0     1\n",
       "275000000.0     1\n",
       "Name: raised_amount_usd, Length: 94, dtype: int64"
      ]
     },
     "execution_count": 28,
     "metadata": {},
     "output_type": "execute_result"
    },
    {
     "data": {
      "text/plain": [
       "0"
      ]
     },
     "execution_count": 28,
     "metadata": {},
     "output_type": "execute_result"
    },
    {
     "data": {
      "text/plain": [
       "Series([], Name: raised_amount_usd, dtype: int64)"
      ]
     },
     "execution_count": 28,
     "metadata": {},
     "output_type": "execute_result"
    },
    {
     "data": {
      "text/plain": [
       "100000000.0    67\n",
       "10000000.0     42\n",
       "50000000.0     42\n",
       "25000000.0     40\n",
       "5000000.0      39\n",
       "               ..\n",
       "14800000.0      1\n",
       "6023000.0       1\n",
       "4499250.0       1\n",
       "1542600.0       1\n",
       "1660.0          1\n",
       "Name: raised_amount_usd, Length: 846, dtype: int64"
      ]
     },
     "execution_count": 28,
     "metadata": {},
     "output_type": "execute_result"
    },
    {
     "data": {
      "text/plain": [
       "count    1.754000e+03\n",
       "mean     3.501767e+07\n",
       "std      4.106894e+07\n",
       "min      6.000000e+00\n",
       "25%      4.817264e+06\n",
       "50%      1.500000e+07\n",
       "75%      5.500000e+07\n",
       "max      1.750000e+08\n",
       "Name: raised_amount_usd, dtype: float64"
      ]
     },
     "execution_count": 28,
     "metadata": {},
     "output_type": "execute_result"
    },
    {
     "data": {
      "text/plain": [
       "<AxesSubplot:>"
      ]
     },
     "execution_count": 28,
     "metadata": {},
     "output_type": "execute_result"
    },
    {
     "data": {
      "image/png": "[encoded data removed]",
      "text/plain": [
       "<Figure size 432x288 with 1 Axes>"
      ]
     },
     "metadata": {
      "needs_background": "light"
     },
     "output_type": "display_data"
    },
    {
     "data": {
      "text/plain": [
       "<AxesSubplot:ylabel='Frequency'>"
      ]
     },
     "execution_count": 28,
     "metadata": {},
     "output_type": "execute_result"
    },
    {
     "data": {
      "image/png": "[encoded data removed]",
      "text/plain": [
       "<Figure size 432x288 with 1 Axes>"
      ]
     },
     "metadata": {
      "needs_background": "light"
     },
     "output_type": "display_data"
    },
    {
     "data": {
      "text/plain": [
       "<AxesSubplot:xlabel='raised_amount_usd', ylabel='Density'>"
      ]
     },
     "execution_count": 28,
     "metadata": {},
     "output_type": "execute_result"
    },
    {
     "data": {
      "image/png": "[encoded data removed]",
      "text/plain": [
       "<Figure size 432x288 with 1 Axes>"
      ]
     },
     "metadata": {
      "needs_background": "light"
     },
     "output_type": "display_data"
    }
   ],
   "source": [
    "Me[Me[\"raised_amount_usd\"]>=u][\"raised_amount_usd\"].value_counts().sum()\n",
    "Me[Me[\"raised_amount_usd\"]>=u][\"raised_amount_usd\"].value_counts()\n",
    "\n",
    "Me[(Me[\"raised_amount_usd\"]<=l)][\"raised_amount_usd\"].value_counts().sum()\n",
    "Me[(Me[\"raised_amount_usd\"]<=l)][\"raised_amount_usd\"].value_counts()\n",
    "\n",
    "Meo=Me[(Me[\"raised_amount_usd\"]>=l) & (Me[\"raised_amount_usd\"]<=u)]\n",
    "Me[(Me[\"raised_amount_usd\"]>=l) & (Me[\"raised_amount_usd\"]<=u)][\"raised_amount_usd\"].value_counts()\n",
    "Me[(Me[\"raised_amount_usd\"]>=l) & (Me[\"raised_amount_usd\"]<=u)][\"raised_amount_usd\"].describe()\n",
    "\n",
    "\n",
    "# To visualize the scenario\n",
    "Me[(Me[\"raised_amount_usd\"]>=l) & (Me[\"raised_amount_usd\"]<=u)][\"raised_amount_usd\"].plot.box()\n",
    "plt.show()\n",
    "\n",
    "Me[(Me[\"raised_amount_usd\"]>=l) & (Me[\"raised_amount_usd\"]<=u)][\"raised_amount_usd\"].plot.hist()\n",
    "plt.show()\n",
    "\n",
    "sns.distplot(Me[(Me[\"raised_amount_usd\"]>=l) & (Me[\"raised_amount_usd\"]<=u)][\"raised_amount_usd\"])\n",
    "plt.show()"
   ]
  },
  {
   "cell_type": "markdown",
   "metadata": {},
   "source": [
    "Considering representative funding amount for \"private_equity\" as 3.501767e+07 (mean from the above output)"
   ]
  },
  {
   "cell_type": "markdown",
   "metadata": {},
   "source": [
    "# CHECK-POINT-3"
   ]
  },
  {
   "cell_type": "markdown",
   "metadata": {},
   "source": [
    "## Country analysis"
   ]
  },
  {
   "cell_type": "markdown",
   "metadata": {},
   "source": [
    "### 10) Top 9 countries with the highest amount of funding (Before removing outliers)"
   ]
  },
  {
   "cell_type": "code",
   "execution_count": 29,
   "metadata": {
    "scrolled": false
   },
   "outputs": [
    {
     "data": {
      "text/plain": [
       "country_code\n",
       "USA    4.225108e+11\n",
       "CHN    3.983542e+10\n",
       "GBR    2.024563e+10\n",
       "IND    1.439186e+10\n",
       "CAN    9.583332e+09\n",
       "FRA    7.259537e+09\n",
       "ISR    6.907515e+09\n",
       "DEU    6.346960e+09\n",
       "JPN    3.363677e+09\n",
       "Name: raised_amount_usd, dtype: float64"
      ]
     },
     "execution_count": 29,
     "metadata": {},
     "output_type": "execute_result"
    }
   ],
   "source": [
    "Mvt9=Mv.groupby(['country_code'])['raised_amount_usd'].sum().sort_values(ascending=False)\n",
    "Mvt9.head(9)"
   ]
  },
  {
   "cell_type": "markdown",
   "metadata": {},
   "source": [
    "#### Top 3 English speaking companies are : \n",
    "#### 1) USA \n",
    "#### 2) GBR \n",
    "#### 3) IND"
   ]
  },
  {
   "cell_type": "markdown",
   "metadata": {},
   "source": [
    "# CHECK-POINT-4"
   ]
  },
  {
   "cell_type": "markdown",
   "metadata": {},
   "source": [
    "## Sector analysis"
   ]
  },
  {
   "cell_type": "code",
   "execution_count": 30,
   "metadata": {
    "scrolled": true
   },
   "outputs": [],
   "source": [
    "# Reading mapping\n",
    "mapping = pd.read_csv(\"mapping.csv\",encoding = \"palmos\")"
   ]
  },
  {
   "cell_type": "code",
   "execution_count": 31,
   "metadata": {
    "scrolled": false
   },
   "outputs": [
    {
     "name": "stdout",
     "output_type": "stream",
     "text": [
      "<class 'pandas.core.frame.DataFrame'>\n",
      "Int64Index: 111539 entries, 0 to 114948\n",
      "Data columns (total 16 columns):\n",
      " #   Column                   Non-Null Count   Dtype  \n",
      "---  ------                   --------------   -----  \n",
      " 0   permalink                111539 non-null  object \n",
      " 1   name                     111538 non-null  object \n",
      " 2   homepage_url             106376 non-null  object \n",
      " 3   category_list            111539 non-null  object \n",
      " 4   status                   111539 non-null  object \n",
      " 5   country_code             104532 non-null  object \n",
      " 6   state_code               102319 non-null  object \n",
      " 7   region                   103077 non-null  object \n",
      " 8   city                     103080 non-null  object \n",
      " 9   founded_at               92848 non-null   object \n",
      " 10  funding_round_permalink  111539 non-null  object \n",
      " 11  funding_round_type       111539 non-null  object \n",
      " 12  funding_round_code       30654 non-null   object \n",
      " 13  funded_at                111539 non-null  object \n",
      " 14  raised_amount_usd        93915 non-null   float64\n",
      " 15  primary_sector           111539 non-null  object \n",
      "dtypes: float64(1), object(15)\n",
      "memory usage: 14.5+ MB\n"
     ]
    }
   ],
   "source": [
    "# Getting dataframe by removing null values from 'category_list'\n",
    "mf_pse = master_frame[~(master_frame[\"category_list\"].isnull())]\n",
    "\n",
    "# Splitting the 'primary_sector'\n",
    "mf_pse['primary_sector'] = master_frame[\"category_list\"].str.split('|')\n",
    "\n",
    "# Getting the first value from split of 'primary_sector'\n",
    "mf_pse['primary_sector'] = mf_pse['primary_sector'].apply(lambda x : x[0])\n",
    "\n",
    "mf_pse.info()"
   ]
  },
  {
   "cell_type": "code",
   "execution_count": 32,
   "metadata": {
    "scrolled": true
   },
   "outputs": [
    {
     "data": {
      "text/html": [
       "<div>\n",
       "<style scoped>\n",
       "    .dataframe tbody tr th:only-of-type {\n",
       "        vertical-align: middle;\n",
       "    }\n",
       "\n",
       "    .dataframe tbody tr th {\n",
       "        vertical-align: top;\n",
       "    }\n",
       "\n",
       "    .dataframe thead th {\n",
       "        text-align: right;\n",
       "    }\n",
       "</style>\n",
       "<table border=\"1\" class=\"dataframe\">\n",
       "  <thead>\n",
       "    <tr style=\"text-align: right;\">\n",
       "      <th></th>\n",
       "      <th>permalink</th>\n",
       "      <th>name</th>\n",
       "      <th>homepage_url</th>\n",
       "      <th>category_list</th>\n",
       "      <th>status</th>\n",
       "      <th>country_code</th>\n",
       "      <th>state_code</th>\n",
       "      <th>region</th>\n",
       "      <th>city</th>\n",
       "      <th>founded_at</th>\n",
       "      <th>funding_round_permalink</th>\n",
       "      <th>funding_round_type</th>\n",
       "      <th>funding_round_code</th>\n",
       "      <th>funded_at</th>\n",
       "      <th>raised_amount_usd</th>\n",
       "      <th>primary_sector</th>\n",
       "      <th>main_sector</th>\n",
       "    </tr>\n",
       "  </thead>\n",
       "  <tbody>\n",
       "    <tr>\n",
       "      <th>0</th>\n",
       "      <td>/ORGANIZATION/-FAME</td>\n",
       "      <td>#fame</td>\n",
       "      <td>http://livfame.com</td>\n",
       "      <td>Media</td>\n",
       "      <td>operating</td>\n",
       "      <td>IND</td>\n",
       "      <td>16</td>\n",
       "      <td>Mumbai</td>\n",
       "      <td>Mumbai</td>\n",
       "      <td>NaN</td>\n",
       "      <td>/funding-round/9a01d05418af9f794eebff7ace91f638</td>\n",
       "      <td>venture</td>\n",
       "      <td>B</td>\n",
       "      <td>05-01-2015</td>\n",
       "      <td>10000000.0</td>\n",
       "      <td>Media</td>\n",
       "      <td>Entertainment</td>\n",
       "    </tr>\n",
       "    <tr>\n",
       "      <th>1</th>\n",
       "      <td>/ORGANIZATION/90MIN</td>\n",
       "      <td>90min</td>\n",
       "      <td>http://www.90min.com</td>\n",
       "      <td>Media|News|Publishing|Soccer|Sports</td>\n",
       "      <td>operating</td>\n",
       "      <td>GBR</td>\n",
       "      <td>H9</td>\n",
       "      <td>London</td>\n",
       "      <td>London</td>\n",
       "      <td>01-01-2011</td>\n",
       "      <td>/funding-round/21a2cbf6f2fb2a1c2a61e04bf930dfe6</td>\n",
       "      <td>venture</td>\n",
       "      <td>NaN</td>\n",
       "      <td>06-10-2015</td>\n",
       "      <td>15000000.0</td>\n",
       "      <td>Media</td>\n",
       "      <td>Entertainment</td>\n",
       "    </tr>\n",
       "    <tr>\n",
       "      <th>2</th>\n",
       "      <td>/ORGANIZATION/90MIN</td>\n",
       "      <td>90min</td>\n",
       "      <td>http://www.90min.com</td>\n",
       "      <td>Media|News|Publishing|Soccer|Sports</td>\n",
       "      <td>operating</td>\n",
       "      <td>GBR</td>\n",
       "      <td>H9</td>\n",
       "      <td>London</td>\n",
       "      <td>London</td>\n",
       "      <td>01-01-2011</td>\n",
       "      <td>/funding-round/bd626ed022f5c66574b1afe234f3c90d</td>\n",
       "      <td>venture</td>\n",
       "      <td>NaN</td>\n",
       "      <td>07-05-2013</td>\n",
       "      <td>5800000.0</td>\n",
       "      <td>Media</td>\n",
       "      <td>Entertainment</td>\n",
       "    </tr>\n",
       "    <tr>\n",
       "      <th>3</th>\n",
       "      <td>/ORGANIZATION/90MIN</td>\n",
       "      <td>90min</td>\n",
       "      <td>http://www.90min.com</td>\n",
       "      <td>Media|News|Publishing|Soccer|Sports</td>\n",
       "      <td>operating</td>\n",
       "      <td>GBR</td>\n",
       "      <td>H9</td>\n",
       "      <td>London</td>\n",
       "      <td>London</td>\n",
       "      <td>01-01-2011</td>\n",
       "      <td>/funding-round/fd4b15e8c97ee2ffc0acccdbe1a98810</td>\n",
       "      <td>venture</td>\n",
       "      <td>NaN</td>\n",
       "      <td>26-03-2014</td>\n",
       "      <td>18000000.0</td>\n",
       "      <td>Media</td>\n",
       "      <td>Entertainment</td>\n",
       "    </tr>\n",
       "    <tr>\n",
       "      <th>4</th>\n",
       "      <td>/ORGANIZATION/A-B-PRODUCTIONS</td>\n",
       "      <td>A.B Productions</td>\n",
       "      <td>NaN</td>\n",
       "      <td>Media|Music|News</td>\n",
       "      <td>operating</td>\n",
       "      <td>USA</td>\n",
       "      <td>CA</td>\n",
       "      <td>Los Angeles</td>\n",
       "      <td>Los Angeles</td>\n",
       "      <td>11-12-2012</td>\n",
       "      <td>/funding-round/23bab180ab73f0dcc3f555bebdf89ade</td>\n",
       "      <td>debt_financing</td>\n",
       "      <td>NaN</td>\n",
       "      <td>21-01-2014</td>\n",
       "      <td>NaN</td>\n",
       "      <td>Media</td>\n",
       "      <td>Entertainment</td>\n",
       "    </tr>\n",
       "  </tbody>\n",
       "</table>\n",
       "</div>"
      ],
      "text/plain": [
       "                       permalink             name          homepage_url  \\\n",
       "0            /ORGANIZATION/-FAME            #fame    http://livfame.com   \n",
       "1            /ORGANIZATION/90MIN            90min  http://www.90min.com   \n",
       "2            /ORGANIZATION/90MIN            90min  http://www.90min.com   \n",
       "3            /ORGANIZATION/90MIN            90min  http://www.90min.com   \n",
       "4  /ORGANIZATION/A-B-PRODUCTIONS  A.B Productions                   NaN   \n",
       "\n",
       "                         category_list     status country_code state_code  \\\n",
       "0                                Media  operating          IND         16   \n",
       "1  Media|News|Publishing|Soccer|Sports  operating          GBR         H9   \n",
       "2  Media|News|Publishing|Soccer|Sports  operating          GBR         H9   \n",
       "3  Media|News|Publishing|Soccer|Sports  operating          GBR         H9   \n",
       "4                     Media|Music|News  operating          USA         CA   \n",
       "\n",
       "        region         city  founded_at  \\\n",
       "0       Mumbai       Mumbai         NaN   \n",
       "1       London       London  01-01-2011   \n",
       "2       London       London  01-01-2011   \n",
       "3       London       London  01-01-2011   \n",
       "4  Los Angeles  Los Angeles  11-12-2012   \n",
       "\n",
       "                           funding_round_permalink funding_round_type  \\\n",
       "0  /funding-round/9a01d05418af9f794eebff7ace91f638            venture   \n",
       "1  /funding-round/21a2cbf6f2fb2a1c2a61e04bf930dfe6            venture   \n",
       "2  /funding-round/bd626ed022f5c66574b1afe234f3c90d            venture   \n",
       "3  /funding-round/fd4b15e8c97ee2ffc0acccdbe1a98810            venture   \n",
       "4  /funding-round/23bab180ab73f0dcc3f555bebdf89ade     debt_financing   \n",
       "\n",
       "  funding_round_code   funded_at  raised_amount_usd primary_sector  \\\n",
       "0                  B  05-01-2015         10000000.0          Media   \n",
       "1                NaN  06-10-2015         15000000.0          Media   \n",
       "2                NaN  07-05-2013          5800000.0          Media   \n",
       "3                NaN  26-03-2014         18000000.0          Media   \n",
       "4                NaN  21-01-2014                NaN          Media   \n",
       "\n",
       "     main_sector  \n",
       "0  Entertainment  \n",
       "1  Entertainment  \n",
       "2  Entertainment  \n",
       "3  Entertainment  \n",
       "4  Entertainment  "
      ]
     },
     "execution_count": 32,
     "metadata": {},
     "output_type": "execute_result"
    }
   ],
   "source": [
    "# Removing null values from \"category_list\"\n",
    "mapping_si = mapping[~(mapping[\"category_list\"].isna())]\n",
    "\n",
    "# Setting index to 'category_list'\n",
    "mapping_si.set_index('category_list', inplace = True)\n",
    "\n",
    "# Taking a constant with '1'\n",
    "value = 1\n",
    "\n",
    "# Invoking a list\n",
    "list_Df = [['primary_sector','main_sector']]\n",
    "\n",
    "# Getting a boolean dataframe with 'value' as True\n",
    "res = mapping_si.isin([value])\n",
    "\n",
    "# Getting a boolean dataframe with 'value' as True while removing rows\n",
    "ser = res.any()\n",
    "\n",
    "# Getting list of columns with 'value' as True\n",
    "col_list = list(ser[ser == True].index)\n",
    "\n",
    "\n",
    "for col in col_list:\n",
    "    # Getting list of rows with 'value' as True\n",
    "    row_list = list(res[res[col] == True].index)       \n",
    "    for row in row_list:\n",
    "        list_Df.append([row,col])\n",
    "             \n",
    "# Getting a dataframe to map 'primary_sector' to 'main_sector' \n",
    "Df = pd.DataFrame(list_Df[1:],columns=list_Df[0])\n",
    "\n",
    "# Merging the dataframes to map 'primary_sector' to 'main_sector'\n",
    "mf_pse=pd.merge(mf_pse, Df, sort = False)\n",
    "\n",
    "mf_pse.head()"
   ]
  },
  {
   "cell_type": "markdown",
   "metadata": {},
   "source": [
    "# CHECK-POINT-5"
   ]
  },
  {
   "cell_type": "code",
   "execution_count": 33,
   "metadata": {
    "scrolled": true
   },
   "outputs": [],
   "source": [
    "# Getting Dataframe of Top English-speaking country with Spark Funds investment range\n",
    "D1 = mf_pse[(mf_pse['country_code']=='USA') & (mf_pse['funding_round_type']=='venture') & (mf_pse['raised_amount_usd']>=5000000) & (mf_pse['raised_amount_usd']<= 15000000)]\n",
    "\n",
    "# Getting Dataframe of Second English-speaking country with Spark Funds investment range\n",
    "D2 = mf_pse[(mf_pse['country_code']=='GBR') & (mf_pse['funding_round_type']=='venture') & (mf_pse['raised_amount_usd']>=5000000) & (mf_pse['raised_amount_usd']<= 15000000)]\n",
    "\n",
    "# Getting Dataframe of Third English-speaking country with Spark Funds investment range\n",
    "D3 = mf_pse[(mf_pse['country_code']=='IND') & (mf_pse['funding_round_type']=='venture') & (mf_pse['raised_amount_usd']>=5000000) & (mf_pse['raised_amount_usd']<= 15000000)]"
   ]
  },
  {
   "cell_type": "code",
   "execution_count": 34,
   "metadata": {
    "scrolled": true
   },
   "outputs": [
    {
     "data": {
      "text/plain": [
       "11149"
      ]
     },
     "execution_count": 34,
     "metadata": {},
     "output_type": "execute_result"
    },
    {
     "data": {
      "text/plain": [
       "577"
      ]
     },
     "execution_count": 34,
     "metadata": {},
     "output_type": "execute_result"
    },
    {
     "data": {
      "text/plain": [
       "299"
      ]
     },
     "execution_count": 34,
     "metadata": {},
     "output_type": "execute_result"
    }
   ],
   "source": [
    "# Getting Total number of Investments(count) for Top, Second, Third English-speaking country respectively.\n",
    "D1.raised_amount_usd.count()\n",
    "D2.raised_amount_usd.count()\n",
    "D3.raised_amount_usd.count()"
   ]
  },
  {
   "cell_type": "code",
   "execution_count": 35,
   "metadata": {
    "scrolled": true
   },
   "outputs": [
    {
     "data": {
      "text/plain": [
       "99661524549.0"
      ]
     },
     "execution_count": 35,
     "metadata": {},
     "output_type": "execute_result"
    },
    {
     "data": {
      "text/plain": [
       "5028704358.0"
      ]
     },
     "execution_count": 35,
     "metadata": {},
     "output_type": "execute_result"
    },
    {
     "data": {
      "text/plain": [
       "2683537552.0"
      ]
     },
     "execution_count": 35,
     "metadata": {},
     "output_type": "execute_result"
    }
   ],
   "source": [
    "# Total amount of investment(USD) for Top, Second, Third English-speaking country respectively.\n",
    "D1.raised_amount_usd.sum()\n",
    "D2.raised_amount_usd.sum()\n",
    "D3.raised_amount_usd.sum()"
   ]
  },
  {
   "cell_type": "code",
   "execution_count": 36,
   "metadata": {
    "scrolled": false
   },
   "outputs": [
    {
     "data": {
      "text/html": [
       "<div>\n",
       "<style scoped>\n",
       "    .dataframe tbody tr th:only-of-type {\n",
       "        vertical-align: middle;\n",
       "    }\n",
       "\n",
       "    .dataframe tbody tr th {\n",
       "        vertical-align: top;\n",
       "    }\n",
       "\n",
       "    .dataframe thead th {\n",
       "        text-align: right;\n",
       "    }\n",
       "</style>\n",
       "<table border=\"1\" class=\"dataframe\">\n",
       "  <thead>\n",
       "    <tr style=\"text-align: right;\">\n",
       "      <th></th>\n",
       "      <th>permalink</th>\n",
       "      <th>name</th>\n",
       "      <th>homepage_url</th>\n",
       "      <th>category_list</th>\n",
       "      <th>status</th>\n",
       "      <th>country_code</th>\n",
       "      <th>state_code</th>\n",
       "      <th>region</th>\n",
       "      <th>city</th>\n",
       "      <th>founded_at</th>\n",
       "      <th>funding_round_permalink</th>\n",
       "      <th>funding_round_type</th>\n",
       "      <th>funding_round_code</th>\n",
       "      <th>funded_at</th>\n",
       "      <th>raised_amount_usd</th>\n",
       "      <th>primary_sector</th>\n",
       "    </tr>\n",
       "    <tr>\n",
       "      <th>main_sector</th>\n",
       "      <th></th>\n",
       "      <th></th>\n",
       "      <th></th>\n",
       "      <th></th>\n",
       "      <th></th>\n",
       "      <th></th>\n",
       "      <th></th>\n",
       "      <th></th>\n",
       "      <th></th>\n",
       "      <th></th>\n",
       "      <th></th>\n",
       "      <th></th>\n",
       "      <th></th>\n",
       "      <th></th>\n",
       "      <th></th>\n",
       "      <th></th>\n",
       "    </tr>\n",
       "  </thead>\n",
       "  <tbody>\n",
       "    <tr>\n",
       "      <th>Others</th>\n",
       "      <td>2923</td>\n",
       "      <td>2923</td>\n",
       "      <td>2721</td>\n",
       "      <td>2923</td>\n",
       "      <td>2923</td>\n",
       "      <td>2923</td>\n",
       "      <td>2922</td>\n",
       "      <td>2922</td>\n",
       "      <td>2922</td>\n",
       "      <td>2558</td>\n",
       "      <td>2923</td>\n",
       "      <td>2923</td>\n",
       "      <td>2144</td>\n",
       "      <td>2923</td>\n",
       "      <td>2923</td>\n",
       "      <td>2923</td>\n",
       "    </tr>\n",
       "    <tr>\n",
       "      <th>Cleantech / Semiconductors</th>\n",
       "      <td>2297</td>\n",
       "      <td>2297</td>\n",
       "      <td>2172</td>\n",
       "      <td>2297</td>\n",
       "      <td>2297</td>\n",
       "      <td>2297</td>\n",
       "      <td>2297</td>\n",
       "      <td>2295</td>\n",
       "      <td>2295</td>\n",
       "      <td>1811</td>\n",
       "      <td>2297</td>\n",
       "      <td>2297</td>\n",
       "      <td>1377</td>\n",
       "      <td>2297</td>\n",
       "      <td>2297</td>\n",
       "      <td>2297</td>\n",
       "    </tr>\n",
       "    <tr>\n",
       "      <th>Social, Finance, Analytics, Advertising</th>\n",
       "      <td>1912</td>\n",
       "      <td>1912</td>\n",
       "      <td>1865</td>\n",
       "      <td>1912</td>\n",
       "      <td>1912</td>\n",
       "      <td>1912</td>\n",
       "      <td>1912</td>\n",
       "      <td>1909</td>\n",
       "      <td>1909</td>\n",
       "      <td>1756</td>\n",
       "      <td>1912</td>\n",
       "      <td>1912</td>\n",
       "      <td>1513</td>\n",
       "      <td>1912</td>\n",
       "      <td>1912</td>\n",
       "      <td>1912</td>\n",
       "    </tr>\n",
       "    <tr>\n",
       "      <th>News, Search and Messaging</th>\n",
       "      <td>1563</td>\n",
       "      <td>1563</td>\n",
       "      <td>1517</td>\n",
       "      <td>1563</td>\n",
       "      <td>1563</td>\n",
       "      <td>1563</td>\n",
       "      <td>1562</td>\n",
       "      <td>1561</td>\n",
       "      <td>1561</td>\n",
       "      <td>1404</td>\n",
       "      <td>1563</td>\n",
       "      <td>1563</td>\n",
       "      <td>1229</td>\n",
       "      <td>1563</td>\n",
       "      <td>1563</td>\n",
       "      <td>1563</td>\n",
       "    </tr>\n",
       "    <tr>\n",
       "      <th>Health</th>\n",
       "      <td>908</td>\n",
       "      <td>908</td>\n",
       "      <td>854</td>\n",
       "      <td>908</td>\n",
       "      <td>908</td>\n",
       "      <td>908</td>\n",
       "      <td>908</td>\n",
       "      <td>908</td>\n",
       "      <td>908</td>\n",
       "      <td>705</td>\n",
       "      <td>908</td>\n",
       "      <td>908</td>\n",
       "      <td>532</td>\n",
       "      <td>908</td>\n",
       "      <td>908</td>\n",
       "      <td>908</td>\n",
       "    </tr>\n",
       "    <tr>\n",
       "      <th>Manufacturing</th>\n",
       "      <td>799</td>\n",
       "      <td>799</td>\n",
       "      <td>755</td>\n",
       "      <td>799</td>\n",
       "      <td>799</td>\n",
       "      <td>799</td>\n",
       "      <td>799</td>\n",
       "      <td>798</td>\n",
       "      <td>798</td>\n",
       "      <td>661</td>\n",
       "      <td>799</td>\n",
       "      <td>799</td>\n",
       "      <td>528</td>\n",
       "      <td>799</td>\n",
       "      <td>799</td>\n",
       "      <td>799</td>\n",
       "    </tr>\n",
       "    <tr>\n",
       "      <th>Entertainment</th>\n",
       "      <td>580</td>\n",
       "      <td>580</td>\n",
       "      <td>565</td>\n",
       "      <td>580</td>\n",
       "      <td>580</td>\n",
       "      <td>580</td>\n",
       "      <td>580</td>\n",
       "      <td>580</td>\n",
       "      <td>580</td>\n",
       "      <td>524</td>\n",
       "      <td>580</td>\n",
       "      <td>580</td>\n",
       "      <td>465</td>\n",
       "      <td>580</td>\n",
       "      <td>580</td>\n",
       "      <td>580</td>\n",
       "    </tr>\n",
       "    <tr>\n",
       "      <th>Automotive &amp; Sports</th>\n",
       "      <td>167</td>\n",
       "      <td>167</td>\n",
       "      <td>156</td>\n",
       "      <td>167</td>\n",
       "      <td>167</td>\n",
       "      <td>167</td>\n",
       "      <td>167</td>\n",
       "      <td>167</td>\n",
       "      <td>167</td>\n",
       "      <td>142</td>\n",
       "      <td>167</td>\n",
       "      <td>167</td>\n",
       "      <td>105</td>\n",
       "      <td>167</td>\n",
       "      <td>167</td>\n",
       "      <td>167</td>\n",
       "    </tr>\n",
       "  </tbody>\n",
       "</table>\n",
       "</div>"
      ],
      "text/plain": [
       "                                         permalink  name  homepage_url  \\\n",
       "main_sector                                                              \n",
       "Others                                        2923  2923          2721   \n",
       "Cleantech / Semiconductors                    2297  2297          2172   \n",
       "Social, Finance, Analytics, Advertising       1912  1912          1865   \n",
       "News, Search and Messaging                    1563  1563          1517   \n",
       "Health                                         908   908           854   \n",
       "Manufacturing                                  799   799           755   \n",
       "Entertainment                                  580   580           565   \n",
       "Automotive & Sports                            167   167           156   \n",
       "\n",
       "                                         category_list  status  country_code  \\\n",
       "main_sector                                                                    \n",
       "Others                                            2923    2923          2923   \n",
       "Cleantech / Semiconductors                        2297    2297          2297   \n",
       "Social, Finance, Analytics, Advertising           1912    1912          1912   \n",
       "News, Search and Messaging                        1563    1563          1563   \n",
       "Health                                             908     908           908   \n",
       "Manufacturing                                      799     799           799   \n",
       "Entertainment                                      580     580           580   \n",
       "Automotive & Sports                                167     167           167   \n",
       "\n",
       "                                         state_code  region  city  founded_at  \\\n",
       "main_sector                                                                     \n",
       "Others                                         2922    2922  2922        2558   \n",
       "Cleantech / Semiconductors                     2297    2295  2295        1811   \n",
       "Social, Finance, Analytics, Advertising        1912    1909  1909        1756   \n",
       "News, Search and Messaging                     1562    1561  1561        1404   \n",
       "Health                                          908     908   908         705   \n",
       "Manufacturing                                   799     798   798         661   \n",
       "Entertainment                                   580     580   580         524   \n",
       "Automotive & Sports                             167     167   167         142   \n",
       "\n",
       "                                         funding_round_permalink  \\\n",
       "main_sector                                                        \n",
       "Others                                                      2923   \n",
       "Cleantech / Semiconductors                                  2297   \n",
       "Social, Finance, Analytics, Advertising                     1912   \n",
       "News, Search and Messaging                                  1563   \n",
       "Health                                                       908   \n",
       "Manufacturing                                                799   \n",
       "Entertainment                                                580   \n",
       "Automotive & Sports                                          167   \n",
       "\n",
       "                                         funding_round_type  \\\n",
       "main_sector                                                   \n",
       "Others                                                 2923   \n",
       "Cleantech / Semiconductors                             2297   \n",
       "Social, Finance, Analytics, Advertising                1912   \n",
       "News, Search and Messaging                             1563   \n",
       "Health                                                  908   \n",
       "Manufacturing                                           799   \n",
       "Entertainment                                           580   \n",
       "Automotive & Sports                                     167   \n",
       "\n",
       "                                         funding_round_code  funded_at  \\\n",
       "main_sector                                                              \n",
       "Others                                                 2144       2923   \n",
       "Cleantech / Semiconductors                             1377       2297   \n",
       "Social, Finance, Analytics, Advertising                1513       1912   \n",
       "News, Search and Messaging                             1229       1563   \n",
       "Health                                                  532        908   \n",
       "Manufacturing                                           528        799   \n",
       "Entertainment                                           465        580   \n",
       "Automotive & Sports                                     105        167   \n",
       "\n",
       "                                         raised_amount_usd  primary_sector  \n",
       "main_sector                                                                 \n",
       "Others                                                2923            2923  \n",
       "Cleantech / Semiconductors                            2297            2297  \n",
       "Social, Finance, Analytics, Advertising               1912            1912  \n",
       "News, Search and Messaging                            1563            1563  \n",
       "Health                                                 908             908  \n",
       "Manufacturing                                          799             799  \n",
       "Entertainment                                          580             580  \n",
       "Automotive & Sports                                    167             167  "
      ]
     },
     "execution_count": 36,
     "metadata": {},
     "output_type": "execute_result"
    }
   ],
   "source": [
    "# Getting Top, Second, Third Sector name(no. of investment-wise) for Top English-speaking country\n",
    "D1.groupby(['main_sector']).count().sort_values('raised_amount_usd',ascending=False)"
   ]
  },
  {
   "cell_type": "code",
   "execution_count": 37,
   "metadata": {
    "scrolled": false
   },
   "outputs": [
    {
     "data": {
      "text/html": [
       "<div>\n",
       "<style scoped>\n",
       "    .dataframe tbody tr th:only-of-type {\n",
       "        vertical-align: middle;\n",
       "    }\n",
       "\n",
       "    .dataframe tbody tr th {\n",
       "        vertical-align: top;\n",
       "    }\n",
       "\n",
       "    .dataframe thead th {\n",
       "        text-align: right;\n",
       "    }\n",
       "</style>\n",
       "<table border=\"1\" class=\"dataframe\">\n",
       "  <thead>\n",
       "    <tr style=\"text-align: right;\">\n",
       "      <th></th>\n",
       "      <th>permalink</th>\n",
       "      <th>name</th>\n",
       "      <th>homepage_url</th>\n",
       "      <th>category_list</th>\n",
       "      <th>status</th>\n",
       "      <th>country_code</th>\n",
       "      <th>state_code</th>\n",
       "      <th>region</th>\n",
       "      <th>city</th>\n",
       "      <th>founded_at</th>\n",
       "      <th>funding_round_permalink</th>\n",
       "      <th>funding_round_type</th>\n",
       "      <th>funding_round_code</th>\n",
       "      <th>funded_at</th>\n",
       "      <th>raised_amount_usd</th>\n",
       "      <th>primary_sector</th>\n",
       "    </tr>\n",
       "    <tr>\n",
       "      <th>main_sector</th>\n",
       "      <th></th>\n",
       "      <th></th>\n",
       "      <th></th>\n",
       "      <th></th>\n",
       "      <th></th>\n",
       "      <th></th>\n",
       "      <th></th>\n",
       "      <th></th>\n",
       "      <th></th>\n",
       "      <th></th>\n",
       "      <th></th>\n",
       "      <th></th>\n",
       "      <th></th>\n",
       "      <th></th>\n",
       "      <th></th>\n",
       "      <th></th>\n",
       "    </tr>\n",
       "  </thead>\n",
       "  <tbody>\n",
       "    <tr>\n",
       "      <th>Others</th>\n",
       "      <td>143</td>\n",
       "      <td>143</td>\n",
       "      <td>130</td>\n",
       "      <td>143</td>\n",
       "      <td>143</td>\n",
       "      <td>143</td>\n",
       "      <td>142</td>\n",
       "      <td>141</td>\n",
       "      <td>141</td>\n",
       "      <td>120</td>\n",
       "      <td>143</td>\n",
       "      <td>143</td>\n",
       "      <td>78</td>\n",
       "      <td>143</td>\n",
       "      <td>143</td>\n",
       "      <td>143</td>\n",
       "    </tr>\n",
       "    <tr>\n",
       "      <th>Cleantech / Semiconductors</th>\n",
       "      <td>127</td>\n",
       "      <td>127</td>\n",
       "      <td>123</td>\n",
       "      <td>127</td>\n",
       "      <td>127</td>\n",
       "      <td>127</td>\n",
       "      <td>120</td>\n",
       "      <td>117</td>\n",
       "      <td>117</td>\n",
       "      <td>84</td>\n",
       "      <td>127</td>\n",
       "      <td>127</td>\n",
       "      <td>81</td>\n",
       "      <td>127</td>\n",
       "      <td>127</td>\n",
       "      <td>127</td>\n",
       "    </tr>\n",
       "    <tr>\n",
       "      <th>Social, Finance, Analytics, Advertising</th>\n",
       "      <td>98</td>\n",
       "      <td>98</td>\n",
       "      <td>96</td>\n",
       "      <td>98</td>\n",
       "      <td>98</td>\n",
       "      <td>98</td>\n",
       "      <td>97</td>\n",
       "      <td>95</td>\n",
       "      <td>95</td>\n",
       "      <td>88</td>\n",
       "      <td>98</td>\n",
       "      <td>98</td>\n",
       "      <td>74</td>\n",
       "      <td>98</td>\n",
       "      <td>98</td>\n",
       "      <td>98</td>\n",
       "    </tr>\n",
       "    <tr>\n",
       "      <th>News, Search and Messaging</th>\n",
       "      <td>73</td>\n",
       "      <td>73</td>\n",
       "      <td>71</td>\n",
       "      <td>73</td>\n",
       "      <td>73</td>\n",
       "      <td>73</td>\n",
       "      <td>72</td>\n",
       "      <td>70</td>\n",
       "      <td>70</td>\n",
       "      <td>64</td>\n",
       "      <td>73</td>\n",
       "      <td>73</td>\n",
       "      <td>43</td>\n",
       "      <td>73</td>\n",
       "      <td>73</td>\n",
       "      <td>73</td>\n",
       "    </tr>\n",
       "    <tr>\n",
       "      <th>Entertainment</th>\n",
       "      <td>54</td>\n",
       "      <td>54</td>\n",
       "      <td>52</td>\n",
       "      <td>54</td>\n",
       "      <td>54</td>\n",
       "      <td>54</td>\n",
       "      <td>54</td>\n",
       "      <td>53</td>\n",
       "      <td>53</td>\n",
       "      <td>47</td>\n",
       "      <td>54</td>\n",
       "      <td>54</td>\n",
       "      <td>38</td>\n",
       "      <td>54</td>\n",
       "      <td>54</td>\n",
       "      <td>54</td>\n",
       "    </tr>\n",
       "    <tr>\n",
       "      <th>Manufacturing</th>\n",
       "      <td>42</td>\n",
       "      <td>42</td>\n",
       "      <td>38</td>\n",
       "      <td>42</td>\n",
       "      <td>42</td>\n",
       "      <td>42</td>\n",
       "      <td>40</td>\n",
       "      <td>38</td>\n",
       "      <td>38</td>\n",
       "      <td>28</td>\n",
       "      <td>42</td>\n",
       "      <td>42</td>\n",
       "      <td>18</td>\n",
       "      <td>42</td>\n",
       "      <td>42</td>\n",
       "      <td>42</td>\n",
       "    </tr>\n",
       "    <tr>\n",
       "      <th>Health</th>\n",
       "      <td>24</td>\n",
       "      <td>24</td>\n",
       "      <td>24</td>\n",
       "      <td>24</td>\n",
       "      <td>24</td>\n",
       "      <td>24</td>\n",
       "      <td>23</td>\n",
       "      <td>20</td>\n",
       "      <td>20</td>\n",
       "      <td>14</td>\n",
       "      <td>24</td>\n",
       "      <td>24</td>\n",
       "      <td>10</td>\n",
       "      <td>24</td>\n",
       "      <td>24</td>\n",
       "      <td>24</td>\n",
       "    </tr>\n",
       "    <tr>\n",
       "      <th>Automotive &amp; Sports</th>\n",
       "      <td>16</td>\n",
       "      <td>16</td>\n",
       "      <td>16</td>\n",
       "      <td>16</td>\n",
       "      <td>16</td>\n",
       "      <td>16</td>\n",
       "      <td>15</td>\n",
       "      <td>14</td>\n",
       "      <td>14</td>\n",
       "      <td>14</td>\n",
       "      <td>16</td>\n",
       "      <td>16</td>\n",
       "      <td>13</td>\n",
       "      <td>16</td>\n",
       "      <td>16</td>\n",
       "      <td>16</td>\n",
       "    </tr>\n",
       "  </tbody>\n",
       "</table>\n",
       "</div>"
      ],
      "text/plain": [
       "                                         permalink  name  homepage_url  \\\n",
       "main_sector                                                              \n",
       "Others                                         143   143           130   \n",
       "Cleantech / Semiconductors                     127   127           123   \n",
       "Social, Finance, Analytics, Advertising         98    98            96   \n",
       "News, Search and Messaging                      73    73            71   \n",
       "Entertainment                                   54    54            52   \n",
       "Manufacturing                                   42    42            38   \n",
       "Health                                          24    24            24   \n",
       "Automotive & Sports                             16    16            16   \n",
       "\n",
       "                                         category_list  status  country_code  \\\n",
       "main_sector                                                                    \n",
       "Others                                             143     143           143   \n",
       "Cleantech / Semiconductors                         127     127           127   \n",
       "Social, Finance, Analytics, Advertising             98      98            98   \n",
       "News, Search and Messaging                          73      73            73   \n",
       "Entertainment                                       54      54            54   \n",
       "Manufacturing                                       42      42            42   \n",
       "Health                                              24      24            24   \n",
       "Automotive & Sports                                 16      16            16   \n",
       "\n",
       "                                         state_code  region  city  founded_at  \\\n",
       "main_sector                                                                     \n",
       "Others                                          142     141   141         120   \n",
       "Cleantech / Semiconductors                      120     117   117          84   \n",
       "Social, Finance, Analytics, Advertising          97      95    95          88   \n",
       "News, Search and Messaging                       72      70    70          64   \n",
       "Entertainment                                    54      53    53          47   \n",
       "Manufacturing                                    40      38    38          28   \n",
       "Health                                           23      20    20          14   \n",
       "Automotive & Sports                              15      14    14          14   \n",
       "\n",
       "                                         funding_round_permalink  \\\n",
       "main_sector                                                        \n",
       "Others                                                       143   \n",
       "Cleantech / Semiconductors                                   127   \n",
       "Social, Finance, Analytics, Advertising                       98   \n",
       "News, Search and Messaging                                    73   \n",
       "Entertainment                                                 54   \n",
       "Manufacturing                                                 42   \n",
       "Health                                                        24   \n",
       "Automotive & Sports                                           16   \n",
       "\n",
       "                                         funding_round_type  \\\n",
       "main_sector                                                   \n",
       "Others                                                  143   \n",
       "Cleantech / Semiconductors                              127   \n",
       "Social, Finance, Analytics, Advertising                  98   \n",
       "News, Search and Messaging                               73   \n",
       "Entertainment                                            54   \n",
       "Manufacturing                                            42   \n",
       "Health                                                   24   \n",
       "Automotive & Sports                                      16   \n",
       "\n",
       "                                         funding_round_code  funded_at  \\\n",
       "main_sector                                                              \n",
       "Others                                                   78        143   \n",
       "Cleantech / Semiconductors                               81        127   \n",
       "Social, Finance, Analytics, Advertising                  74         98   \n",
       "News, Search and Messaging                               43         73   \n",
       "Entertainment                                            38         54   \n",
       "Manufacturing                                            18         42   \n",
       "Health                                                   10         24   \n",
       "Automotive & Sports                                      13         16   \n",
       "\n",
       "                                         raised_amount_usd  primary_sector  \n",
       "main_sector                                                                 \n",
       "Others                                                 143             143  \n",
       "Cleantech / Semiconductors                             127             127  \n",
       "Social, Finance, Analytics, Advertising                 98              98  \n",
       "News, Search and Messaging                              73              73  \n",
       "Entertainment                                           54              54  \n",
       "Manufacturing                                           42              42  \n",
       "Health                                                  24              24  \n",
       "Automotive & Sports                                     16              16  "
      ]
     },
     "execution_count": 37,
     "metadata": {},
     "output_type": "execute_result"
    }
   ],
   "source": [
    "# Getting Top, Second, Third Sector name(no. of investment-wise) for Second English-speaking country\n",
    "D2.groupby(['main_sector']).count().sort_values('raised_amount_usd',ascending=False)"
   ]
  },
  {
   "cell_type": "code",
   "execution_count": 38,
   "metadata": {
    "scrolled": false
   },
   "outputs": [
    {
     "data": {
      "text/html": [
       "<div>\n",
       "<style scoped>\n",
       "    .dataframe tbody tr th:only-of-type {\n",
       "        vertical-align: middle;\n",
       "    }\n",
       "\n",
       "    .dataframe tbody tr th {\n",
       "        vertical-align: top;\n",
       "    }\n",
       "\n",
       "    .dataframe thead th {\n",
       "        text-align: right;\n",
       "    }\n",
       "</style>\n",
       "<table border=\"1\" class=\"dataframe\">\n",
       "  <thead>\n",
       "    <tr style=\"text-align: right;\">\n",
       "      <th></th>\n",
       "      <th>permalink</th>\n",
       "      <th>name</th>\n",
       "      <th>homepage_url</th>\n",
       "      <th>category_list</th>\n",
       "      <th>status</th>\n",
       "      <th>country_code</th>\n",
       "      <th>state_code</th>\n",
       "      <th>region</th>\n",
       "      <th>city</th>\n",
       "      <th>founded_at</th>\n",
       "      <th>funding_round_permalink</th>\n",
       "      <th>funding_round_type</th>\n",
       "      <th>funding_round_code</th>\n",
       "      <th>funded_at</th>\n",
       "      <th>raised_amount_usd</th>\n",
       "      <th>primary_sector</th>\n",
       "    </tr>\n",
       "    <tr>\n",
       "      <th>main_sector</th>\n",
       "      <th></th>\n",
       "      <th></th>\n",
       "      <th></th>\n",
       "      <th></th>\n",
       "      <th></th>\n",
       "      <th></th>\n",
       "      <th></th>\n",
       "      <th></th>\n",
       "      <th></th>\n",
       "      <th></th>\n",
       "      <th></th>\n",
       "      <th></th>\n",
       "      <th></th>\n",
       "      <th></th>\n",
       "      <th></th>\n",
       "      <th></th>\n",
       "    </tr>\n",
       "  </thead>\n",
       "  <tbody>\n",
       "    <tr>\n",
       "      <th>Others</th>\n",
       "      <td>109</td>\n",
       "      <td>109</td>\n",
       "      <td>109</td>\n",
       "      <td>109</td>\n",
       "      <td>109</td>\n",
       "      <td>109</td>\n",
       "      <td>109</td>\n",
       "      <td>109</td>\n",
       "      <td>109</td>\n",
       "      <td>99</td>\n",
       "      <td>109</td>\n",
       "      <td>109</td>\n",
       "      <td>80</td>\n",
       "      <td>109</td>\n",
       "      <td>109</td>\n",
       "      <td>109</td>\n",
       "    </tr>\n",
       "    <tr>\n",
       "      <th>News, Search and Messaging</th>\n",
       "      <td>52</td>\n",
       "      <td>52</td>\n",
       "      <td>50</td>\n",
       "      <td>52</td>\n",
       "      <td>52</td>\n",
       "      <td>52</td>\n",
       "      <td>52</td>\n",
       "      <td>52</td>\n",
       "      <td>52</td>\n",
       "      <td>46</td>\n",
       "      <td>52</td>\n",
       "      <td>52</td>\n",
       "      <td>41</td>\n",
       "      <td>52</td>\n",
       "      <td>52</td>\n",
       "      <td>52</td>\n",
       "    </tr>\n",
       "    <tr>\n",
       "      <th>Entertainment</th>\n",
       "      <td>33</td>\n",
       "      <td>33</td>\n",
       "      <td>33</td>\n",
       "      <td>33</td>\n",
       "      <td>33</td>\n",
       "      <td>33</td>\n",
       "      <td>33</td>\n",
       "      <td>33</td>\n",
       "      <td>33</td>\n",
       "      <td>26</td>\n",
       "      <td>33</td>\n",
       "      <td>33</td>\n",
       "      <td>24</td>\n",
       "      <td>33</td>\n",
       "      <td>33</td>\n",
       "      <td>33</td>\n",
       "    </tr>\n",
       "    <tr>\n",
       "      <th>Social, Finance, Analytics, Advertising</th>\n",
       "      <td>32</td>\n",
       "      <td>32</td>\n",
       "      <td>32</td>\n",
       "      <td>32</td>\n",
       "      <td>32</td>\n",
       "      <td>32</td>\n",
       "      <td>32</td>\n",
       "      <td>32</td>\n",
       "      <td>32</td>\n",
       "      <td>27</td>\n",
       "      <td>32</td>\n",
       "      <td>32</td>\n",
       "      <td>25</td>\n",
       "      <td>32</td>\n",
       "      <td>32</td>\n",
       "      <td>32</td>\n",
       "    </tr>\n",
       "    <tr>\n",
       "      <th>Manufacturing</th>\n",
       "      <td>21</td>\n",
       "      <td>21</td>\n",
       "      <td>21</td>\n",
       "      <td>21</td>\n",
       "      <td>21</td>\n",
       "      <td>21</td>\n",
       "      <td>21</td>\n",
       "      <td>21</td>\n",
       "      <td>21</td>\n",
       "      <td>17</td>\n",
       "      <td>21</td>\n",
       "      <td>21</td>\n",
       "      <td>8</td>\n",
       "      <td>21</td>\n",
       "      <td>21</td>\n",
       "      <td>21</td>\n",
       "    </tr>\n",
       "    <tr>\n",
       "      <th>Cleantech / Semiconductors</th>\n",
       "      <td>20</td>\n",
       "      <td>20</td>\n",
       "      <td>20</td>\n",
       "      <td>20</td>\n",
       "      <td>20</td>\n",
       "      <td>20</td>\n",
       "      <td>20</td>\n",
       "      <td>20</td>\n",
       "      <td>20</td>\n",
       "      <td>17</td>\n",
       "      <td>20</td>\n",
       "      <td>20</td>\n",
       "      <td>11</td>\n",
       "      <td>20</td>\n",
       "      <td>20</td>\n",
       "      <td>20</td>\n",
       "    </tr>\n",
       "    <tr>\n",
       "      <th>Health</th>\n",
       "      <td>19</td>\n",
       "      <td>19</td>\n",
       "      <td>19</td>\n",
       "      <td>19</td>\n",
       "      <td>19</td>\n",
       "      <td>19</td>\n",
       "      <td>19</td>\n",
       "      <td>19</td>\n",
       "      <td>19</td>\n",
       "      <td>12</td>\n",
       "      <td>19</td>\n",
       "      <td>19</td>\n",
       "      <td>11</td>\n",
       "      <td>19</td>\n",
       "      <td>19</td>\n",
       "      <td>19</td>\n",
       "    </tr>\n",
       "    <tr>\n",
       "      <th>Automotive &amp; Sports</th>\n",
       "      <td>13</td>\n",
       "      <td>13</td>\n",
       "      <td>13</td>\n",
       "      <td>13</td>\n",
       "      <td>13</td>\n",
       "      <td>13</td>\n",
       "      <td>12</td>\n",
       "      <td>12</td>\n",
       "      <td>12</td>\n",
       "      <td>13</td>\n",
       "      <td>13</td>\n",
       "      <td>13</td>\n",
       "      <td>11</td>\n",
       "      <td>13</td>\n",
       "      <td>13</td>\n",
       "      <td>13</td>\n",
       "    </tr>\n",
       "  </tbody>\n",
       "</table>\n",
       "</div>"
      ],
      "text/plain": [
       "                                         permalink  name  homepage_url  \\\n",
       "main_sector                                                              \n",
       "Others                                         109   109           109   \n",
       "News, Search and Messaging                      52    52            50   \n",
       "Entertainment                                   33    33            33   \n",
       "Social, Finance, Analytics, Advertising         32    32            32   \n",
       "Manufacturing                                   21    21            21   \n",
       "Cleantech / Semiconductors                      20    20            20   \n",
       "Health                                          19    19            19   \n",
       "Automotive & Sports                             13    13            13   \n",
       "\n",
       "                                         category_list  status  country_code  \\\n",
       "main_sector                                                                    \n",
       "Others                                             109     109           109   \n",
       "News, Search and Messaging                          52      52            52   \n",
       "Entertainment                                       33      33            33   \n",
       "Social, Finance, Analytics, Advertising             32      32            32   \n",
       "Manufacturing                                       21      21            21   \n",
       "Cleantech / Semiconductors                          20      20            20   \n",
       "Health                                              19      19            19   \n",
       "Automotive & Sports                                 13      13            13   \n",
       "\n",
       "                                         state_code  region  city  founded_at  \\\n",
       "main_sector                                                                     \n",
       "Others                                          109     109   109          99   \n",
       "News, Search and Messaging                       52      52    52          46   \n",
       "Entertainment                                    33      33    33          26   \n",
       "Social, Finance, Analytics, Advertising          32      32    32          27   \n",
       "Manufacturing                                    21      21    21          17   \n",
       "Cleantech / Semiconductors                       20      20    20          17   \n",
       "Health                                           19      19    19          12   \n",
       "Automotive & Sports                              12      12    12          13   \n",
       "\n",
       "                                         funding_round_permalink  \\\n",
       "main_sector                                                        \n",
       "Others                                                       109   \n",
       "News, Search and Messaging                                    52   \n",
       "Entertainment                                                 33   \n",
       "Social, Finance, Analytics, Advertising                       32   \n",
       "Manufacturing                                                 21   \n",
       "Cleantech / Semiconductors                                    20   \n",
       "Health                                                        19   \n",
       "Automotive & Sports                                           13   \n",
       "\n",
       "                                         funding_round_type  \\\n",
       "main_sector                                                   \n",
       "Others                                                  109   \n",
       "News, Search and Messaging                               52   \n",
       "Entertainment                                            33   \n",
       "Social, Finance, Analytics, Advertising                  32   \n",
       "Manufacturing                                            21   \n",
       "Cleantech / Semiconductors                               20   \n",
       "Health                                                   19   \n",
       "Automotive & Sports                                      13   \n",
       "\n",
       "                                         funding_round_code  funded_at  \\\n",
       "main_sector                                                              \n",
       "Others                                                   80        109   \n",
       "News, Search and Messaging                               41         52   \n",
       "Entertainment                                            24         33   \n",
       "Social, Finance, Analytics, Advertising                  25         32   \n",
       "Manufacturing                                             8         21   \n",
       "Cleantech / Semiconductors                               11         20   \n",
       "Health                                                   11         19   \n",
       "Automotive & Sports                                      11         13   \n",
       "\n",
       "                                         raised_amount_usd  primary_sector  \n",
       "main_sector                                                                 \n",
       "Others                                                 109             109  \n",
       "News, Search and Messaging                              52              52  \n",
       "Entertainment                                           33              33  \n",
       "Social, Finance, Analytics, Advertising                 32              32  \n",
       "Manufacturing                                           21              21  \n",
       "Cleantech / Semiconductors                              20              20  \n",
       "Health                                                  19              19  \n",
       "Automotive & Sports                                     13              13  "
      ]
     },
     "execution_count": 38,
     "metadata": {},
     "output_type": "execute_result"
    }
   ],
   "source": [
    "# Getting Top, Second, Third Sector name(no. of investment-wise) for Third English-speaking country\n",
    "D3.groupby(['main_sector']).count().sort_values('raised_amount_usd',ascending=False)"
   ]
  },
  {
   "cell_type": "code",
   "execution_count": 39,
   "metadata": {
    "scrolled": false
   },
   "outputs": [
    {
     "data": {
      "text/plain": [
       "permalink\n",
       "/ORGANIZATION/VIRTUSTREAM              64300000.0\n",
       "/ORGANIZATION/CAPELLA                  54968051.0\n",
       "/ORGANIZATION/AIRTIGHT-NETWORKS        54201907.0\n",
       "/ORGANIZATION/DECARTA                  52100000.0\n",
       "/ORGANIZATION/BLACK-DUCK-SOFTWARE      51000000.0\n",
       "                                          ...    \n",
       "/ORGANIZATION/SANPULSE-TECHNOLOGIES     5000000.0\n",
       "/ORGANIZATION/IRIDIAN-TECHNOLOGIES      5000000.0\n",
       "/ORGANIZATION/VICTRIO                   5000000.0\n",
       "/ORGANIZATION/PET-S-CHOICE              5000000.0\n",
       "/ORGANIZATION/URBAN-REMEDY              5000000.0\n",
       "Name: raised_amount_usd, Length: 2030, dtype: float64"
      ]
     },
     "execution_count": 39,
     "metadata": {},
     "output_type": "execute_result"
    },
    {
     "data": {
      "text/plain": [
       "permalink\n",
       "/ORGANIZATION/ELECTRIC-CLOUD             37000000.0\n",
       "/ORGANIZATION/SENSAGE                    36250000.0\n",
       "/ORGANIZATION/ENIGMATIC                  32500000.0\n",
       "/ORGANIZATION/SILVERRAIL-TECHNOLOGIES    29000000.0\n",
       "/ORGANIZATION/OPENCLOUD                  27972766.0\n",
       "                                            ...    \n",
       "/ORGANIZATION/VECTOR-WATCH                5000000.0\n",
       "/ORGANIZATION/PHOTOBOX                    5000000.0\n",
       "/ORGANIZATION/UDEX                        5000000.0\n",
       "/ORGANIZATION/BACULA-SYSTEMS              5000000.0\n",
       "/ORGANIZATION/BULLGUARD                   5000000.0\n",
       "Name: raised_amount_usd, Length: 117, dtype: float64"
      ]
     },
     "execution_count": 39,
     "metadata": {},
     "output_type": "execute_result"
    },
    {
     "data": {
      "text/plain": [
       "permalink\n",
       "/ORGANIZATION/FIRSTCRY-COM           39000000.0\n",
       "/ORGANIZATION/MYNTRA                 38000000.0\n",
       "/ORGANIZATION/COMMONFLOOR            32900000.0\n",
       "/ORGANIZATION/PEPPERFRY-COM          28000000.0\n",
       "/ORGANIZATION/ITZCASH-CARD-LTD       25000000.0\n",
       "                                        ...    \n",
       "/ORGANIZATION/TASTYKHANA              5000000.0\n",
       "/ORGANIZATION/REZNEXT                 5000000.0\n",
       "/ORGANIZATION/VOONIK-COM              5000000.0\n",
       "/ORGANIZATION/VEDANTU-INNOVATIONS     5000000.0\n",
       "/ORGANIZATION/LIASES-FORAS            5000000.0\n",
       "Name: raised_amount_usd, Length: 87, dtype: float64"
      ]
     },
     "execution_count": 39,
     "metadata": {},
     "output_type": "execute_result"
    }
   ],
   "source": [
    "# Getting company which received the highest investment in Top Sector for Top, Second, Third English-speaking country respectively.\n",
    "\n",
    "D1[(D1['main_sector']=='Others')].groupby(['permalink'])['raised_amount_usd'].sum().sort_values(ascending=False)\n",
    "\n",
    "D2[(D2['main_sector']=='Others')].groupby(['permalink'])['raised_amount_usd'].sum().sort_values(ascending=False)\n",
    "\n",
    "D3[(D3['main_sector']=='Others')].groupby(['permalink'])['raised_amount_usd'].sum().sort_values(ascending=False)"
   ]
  },
  {
   "cell_type": "code",
   "execution_count": 40,
   "metadata": {
    "scrolled": false
   },
   "outputs": [
    {
     "data": {
      "text/plain": [
       "permalink\n",
       "/ORGANIZATION/BIODESIX               75300000.0\n",
       "/ORGANIZATION/TIGO-ENERGY            68739496.0\n",
       "/ORGANIZATION/FORSIGHT-LABS          61300001.0\n",
       "/ORGANIZATION/RHEONIX                56124758.0\n",
       "/ORGANIZATION/SCIENERGY              55375423.0\n",
       "                                        ...    \n",
       "/ORGANIZATION/AZURAY-TECHNOLOGIES     5000000.0\n",
       "/ORGANIZATION/GT-UROLOGICAL           5000000.0\n",
       "/ORGANIZATION/BENCHLING               5000000.0\n",
       "/ORGANIZATION/HADRON-SYSTEMS          5000000.0\n",
       "/ORGANIZATION/1BOG                    5000000.0\n",
       "Name: raised_amount_usd, Length: 1582, dtype: float64"
      ]
     },
     "execution_count": 40,
     "metadata": {},
     "output_type": "execute_result"
    },
    {
     "data": {
      "text/plain": [
       "permalink\n",
       "/ORGANIZATION/EUSA-PHARMA                                                      35600000.0\n",
       "/ORGANIZATION/HORIZON-DISCOVERY                                                31353719.0\n",
       "/ORGANIZATION/F-STAR-BIOTECHNOLOGISCHE-FORSCHUNGS-UND-ENTWICKLUNGSGES-M-B-H    29132906.0\n",
       "/ORGANIZATION/ELIXENT                                                          25000000.0\n",
       "/ORGANIZATION/TAKEDA-CAMBRIDGE                                                 22340000.0\n",
       "                                                                                  ...    \n",
       "/ORGANIZATION/LAMELLAR-BIOMEDICAL                                               5301059.0\n",
       "/ORGANIZATION/MMIC-SOLUTIONS                                                    5250000.0\n",
       "/ORGANIZATION/FLOWLINE                                                          5104587.0\n",
       "/ORGANIZATION/IGNIS-ENERGY                                                      5014644.0\n",
       "/ORGANIZATION/EXCO-INTOUCH                                                      5000000.0\n",
       "Name: raised_amount_usd, Length: 104, dtype: float64"
      ]
     },
     "execution_count": 40,
     "metadata": {},
     "output_type": "execute_result"
    },
    {
     "data": {
      "text/plain": [
       "permalink\n",
       "/ORGANIZATION/GUPSHUP-TECHNOLOGY-INDIA-PVT-LTD    33000000.0\n",
       "/ORGANIZATION/IMIMOBILE                           23000000.0\n",
       "/ORGANIZATION/SMS-GUPSHUP                         22000000.0\n",
       "/ORGANIZATION/HIKE                                21000000.0\n",
       "/ORGANIZATION/ROADRUNNR                           21000000.0\n",
       "/ORGANIZATION/MATRIMONY-COM                       20400000.0\n",
       "/ORGANIZATION/GURUJI                              15000000.0\n",
       "/ORGANIZATION/BLUESTONE-COM                       15000000.0\n",
       "/ORGANIZATION/MOBILE2WIN-INDIA                    15000000.0\n",
       "/ORGANIZATION/QUIKR-INDIA                         14000000.0\n",
       "/ORGANIZATION/BHARAT-MATRIMONY                    11750000.0\n",
       "/ORGANIZATION/TELEDNA                             10490000.0\n",
       "/ORGANIZATION/BABAJOB                             10000000.0\n",
       "/ORGANIZATION/MONEY-ON-MOBILE                     10000000.0\n",
       "/ORGANIZATION/FOURINTERACTIVE                     10000000.0\n",
       "/ORGANIZATION/JUST-DIAL                           10000000.0\n",
       "/ORGANIZATION/ONE97-COMMUNICATIONS                10000000.0\n",
       "/ORGANIZATION/URBANCLAP                           10000000.0\n",
       "/ORGANIZATION/PEPPERTAP                           10000000.0\n",
       "/ORGANIZATION/WEBSHASTRA-PVT-LTD                  10000000.0\n",
       "/ORGANIZATION/SHADOWFAX-TECHNOLOGIES               8500000.0\n",
       "/ORGANIZATION/PEOPLE-INTERACTIVE-INDIA             8000000.0\n",
       "/ORGANIZATION/EZETAP                               8000000.0\n",
       "/ORGANIZATION/TINYOWL-TECHNOLOGY                   7665775.0\n",
       "/ORGANIZATION/NAZARA-TECHNOLOGIES                  7000000.0\n",
       "/ORGANIZATION/CULTUREALLEY                         6500000.0\n",
       "/ORGANIZATION/KNOWLARITY-COMMUNICATIONS            6500000.0\n",
       "/ORGANIZATION/REDBUS-IN                            6428770.0\n",
       "/ORGANIZATION/ZINKA-LOGISTICS                      6000000.0\n",
       "/ORGANIZATION/CHILLR-2                             6000000.0\n",
       "/ORGANIZATION/SUREWAVES                            5700000.0\n",
       "/ORGANIZATION/THE-PORTER                           5500000.0\n",
       "/ORGANIZATION/EASYLINK                             5400000.0\n",
       "/ORGANIZATION/BELONG                               5000000.0\n",
       "/ORGANIZATION/CHAKPAK-MEDIA                        5000000.0\n",
       "/ORGANIZATION/ZOOMO                                5000000.0\n",
       "/ORGANIZATION/JUGNOO                               5000000.0\n",
       "/ORGANIZATION/LOCALBANYA                           5000000.0\n",
       "/ORGANIZATION/LOCALOYE                             5000000.0\n",
       "/ORGANIZATION/REVIEWS42                            5000000.0\n",
       "/ORGANIZATION/WOOPLR                               5000000.0\n",
       "/ORGANIZATION/MOBIKWIK                             5000000.0\n",
       "Name: raised_amount_usd, dtype: float64"
      ]
     },
     "execution_count": 40,
     "metadata": {},
     "output_type": "execute_result"
    }
   ],
   "source": [
    "# Getting company which received the highest investment in Second Sector for Top, Second, Third English-speaking country respectively.\n",
    "\n",
    "D1[(D1['main_sector']=='Cleantech / Semiconductors')].groupby(['permalink'])['raised_amount_usd'].sum().sort_values(ascending=False)\n",
    "\n",
    "D2[(D2['main_sector']=='Cleantech / Semiconductors')].groupby(['permalink'])['raised_amount_usd'].sum().sort_values(ascending=False)\n",
    "\n",
    "D3[(D3['main_sector']=='News, Search and Messaging')].groupby(['permalink'])['raised_amount_usd'].sum().sort_values(ascending=False)"
   ]
  },
  {
   "cell_type": "markdown",
   "metadata": {},
   "source": [
    "# CHECK-POINT-6"
   ]
  },
  {
   "cell_type": "markdown",
   "metadata": {},
   "source": [
    "#### 6.1) A plot showing the representative amount of investment in each funding type"
   ]
  },
  {
   "cell_type": "code",
   "execution_count": 41,
   "metadata": {
    "scrolled": false
   },
   "outputs": [
    {
     "data": {
      "text/plain": [
       "<Figure size 1800x720 with 0 Axes>"
      ]
     },
     "execution_count": 41,
     "metadata": {},
     "output_type": "execute_result"
    },
    {
     "data": {
      "text/plain": [
       "<AxesSubplot:xlabel='funding_round_type', ylabel='representative_value'>"
      ]
     },
     "execution_count": 41,
     "metadata": {},
     "output_type": "execute_result"
    },
    {
     "data": {
      "image/png": "[encoded data removed]",
      "text/plain": [
       "<Figure size 1800x720 with 1 Axes>"
      ]
     },
     "metadata": {
      "needs_background": "light"
     },
     "output_type": "display_data"
    }
   ],
   "source": [
    "# Invoking a list to get a dataframe of reprentative values\n",
    "l_rv = [['representative_value','funding_round_type']]\n",
    "\n",
    "# Removing null values of 'raised_amount_usd' and 'funding_round_type' from \"master_frame_d\"\n",
    "master_frame_d = master_frame[~((master_frame[\"raised_amount_usd\"].isna()) & (master_frame[\"funding_round_type\"].isna()))]\n",
    "\n",
    "# Getting the list of 'funding_round_type' values without duplication\n",
    "list_frtype = master_frame_d['funding_round_type'].drop_duplicates().to_list()\n",
    "\n",
    "\n",
    "for ftype in list_frtype:\n",
    "\n",
    "    # Filtering the dataframe with 'funding_round_type' and 'raised_amount_usd' greater than 0\n",
    "    master_frame_d2=master_frame_d[(master_frame_d['funding_round_type'] == ftype) & (master_frame_d[\"raised_amount_usd\"]>0 )]\n",
    "   \n",
    "    # Getting upper and lower extreme values\n",
    "    q1=master_frame_d2[\"raised_amount_usd\"].quantile(0.25)\n",
    "    q2=master_frame_d2[\"raised_amount_usd\"].quantile(0.75)\n",
    "    IQR= q2-q1\n",
    "    l = q1-1.5*IQR\n",
    "    u = q2+1.5*IQR\n",
    "    \n",
    "    #Removing outliers from dataframe and getting the mean from each 'funding_round_type'\n",
    "    mn=master_frame_d2[(master_frame_d2[\"raised_amount_usd\"]>=l) & (master_frame_d2[\"raised_amount_usd\"]<=u)][\"raised_amount_usd\"].mean()\n",
    "    \n",
    "    # Adding the 'funding_round_type' and respective mean values as list to l_rv\n",
    "    l_rv.append([mn,ftype])\n",
    "\n",
    "# Creating a data frame from a list(l_rv)\n",
    "Df_rv = pd.DataFrame(l_rv[1:],columns=l_rv[0])\n",
    "\n",
    "# Plotting a bar graph\n",
    "plt.figure(figsize=[25,10])\n",
    "sns.barplot(data=Df_rv, x='funding_round_type', y='representative_value', order=Df_rv.sort_values('representative_value',ascending = False).funding_round_type)\n",
    "plt.show()\n",
    "\n"
   ]
  },
  {
   "cell_type": "markdown",
   "metadata": {},
   "source": [
    "##### Plotting only four funding types"
   ]
  },
  {
   "cell_type": "code",
   "execution_count": 42,
   "metadata": {
    "scrolled": false
   },
   "outputs": [
    {
     "data": {
      "text/plain": [
       "<Figure size 1800x720 with 0 Axes>"
      ]
     },
     "execution_count": 42,
     "metadata": {},
     "output_type": "execute_result"
    },
    {
     "data": {
      "text/plain": [
       "<AxesSubplot:xlabel='funding_round_type', ylabel='representative_value'>"
      ]
     },
     "execution_count": 42,
     "metadata": {},
     "output_type": "execute_result"
    },
    {
     "data": {
      "image/png": "[encoded data removed]",
      "text/plain": [
       "<Figure size 1800x720 with 1 Axes>"
      ]
     },
     "metadata": {
      "needs_background": "light"
     },
     "output_type": "display_data"
    }
   ],
   "source": [
    "k1=Mvo[\"raised_amount_usd\"].mean()\n",
    "k2=Mao[\"raised_amount_usd\"].mean()\n",
    "k3=Mso[\"raised_amount_usd\"].mean()\n",
    "k4=Meo[\"raised_amount_usd\"].mean()\n",
    "\n",
    "l_rv2 = [['representative_value','funding_round_type'],[k1,'venture'],[k2,'angel'],[k3,'seed'],[k4,'private_equity']]\n",
    "Df_rv2 = pd.DataFrame(l_rv2[1:],columns=l_rv2[0])\n",
    "\n",
    "# Plotting a bar graph\n",
    "plt.figure(figsize=[25,10])\n",
    "sns.barplot(data=Df_rv2, x='funding_round_type', y='representative_value', order=Df_rv2.sort_values('representative_value',ascending = False).funding_round_type)\n",
    "plt.show()"
   ]
  },
  {
   "attachments": {},
   "cell_type": "markdown",
   "metadata": {},
   "source": [
    "#### 6.2) A plot showing the top 9 countries against the total amount of investments of funding type FT(venture type)"
   ]
  },
  {
   "cell_type": "code",
   "execution_count": 43,
   "metadata": {
    "scrolled": false
   },
   "outputs": [
    {
     "data": {
      "text/plain": [
       "<Figure size 1296x720 with 0 Axes>"
      ]
     },
     "execution_count": 43,
     "metadata": {},
     "output_type": "execute_result"
    },
    {
     "data": {
      "text/plain": [
       "<AxesSubplot:xlabel='raised_amount_usd', ylabel='country_code'>"
      ]
     },
     "execution_count": 43,
     "metadata": {},
     "output_type": "execute_result"
    },
    {
     "data": {
      "image/png": "[encoded data removed]",
      "text/plain": [
       "<Figure size 1296x720 with 1 Axes>"
      ]
     },
     "metadata": {
      "needs_background": "light"
     },
     "output_type": "display_data"
    }
   ],
   "source": [
    "# Getting a dataframe with 'funding_round_type' as 'venture' and 'country_code' for top 9 countries(based on the total investment amount each country has received)\n",
    "Mvt9d=Mv[Mv['country_code'].isin(['USA','CHN','GBR','IND','CAN','FRA','ISR','DEU','JPN'])]\n",
    "\n",
    "# Plotting a bar graph\n",
    "plt.figure(figsize=[18,10])\n",
    "sns.barplot(data=Mvt9d, y='country_code',x='raised_amount_usd', estimator=sum , orient = 'h' )\n",
    "plt.show()"
   ]
  },
  {
   "cell_type": "markdown",
   "metadata": {},
   "source": [
    "#### 6.3) A plot showing the number of investments in the top 3 sectors of the top 3 countries on one chart (for the chosen investment type FT(venture type))"
   ]
  },
  {
   "cell_type": "code",
   "execution_count": 44,
   "metadata": {
    "scrolled": false
   },
   "outputs": [
    {
     "data": {
      "text/plain": [
       "<Figure size 1080x720 with 0 Axes>"
      ]
     },
     "execution_count": 44,
     "metadata": {},
     "output_type": "execute_result"
    },
    {
     "data": {
      "text/plain": [
       "<AxesSubplot:xlabel='country_code', ylabel='count'>"
      ]
     },
     "execution_count": 44,
     "metadata": {},
     "output_type": "execute_result"
    },
    {
     "data": {
      "image/png": "[encoded data removed]",
      "text/plain": [
       "<Figure size 1080x720 with 1 Axes>"
      ]
     },
     "metadata": {
      "needs_background": "light"
     },
     "output_type": "display_data"
    }
   ],
   "source": [
    "# Recap of operations done on dataframes which are used in this cell\n",
    "#---------------------------------------------------------------------------------------------------------------------\n",
    "# mf_g4 = master_frame[master_frame[\"funding_round_type\"].isin([\"angel\",\"venture\",\"seed\",\"private_equity\"])]\n",
    "# mf_g4 = mf_g4[~(mf_g4[\"raised_amount_usd\"].isna())]\n",
    "# Mv=mf_g4[(mf_g4[\"funding_round_type\"] == \"venture\") & (mf_g4[\"raised_amount_usd\"]>0 )]\n",
    "\n",
    "# mf_pse = master_frame[~(master_frame[\"category_list\"].isnull())]\n",
    "# mf_pse=pd.merge(mf_pse, Df, sort = False)\n",
    "#----------------------------------------------------------------------------------------------------------------------\n",
    "\n",
    "# Getting a dataframe by removing null values from 'raised_amount_usd'\n",
    "mf_pse_d = mf_pse[~(mf_pse[\"raised_amount_usd\"].isna())]\n",
    "\n",
    "# Filtering dataframe with below\n",
    "mf_pse_d2 = mf_pse_d[(mf_pse_d[\"funding_round_type\"] == \"venture\") & (mf_pse['raised_amount_usd']>=5000000) & (mf_pse['raised_amount_usd']<= 15000000) & mf_pse_d['country_code'].isin(['USA','GBR','IND'])]\n",
    "\n",
    "# Plotting a count graph\n",
    "plt.figure(figsize=[15,10])\n",
    "sns.countplot(x=\"country_code\", hue=\"main_sector\", data=mf_pse_d2, order = mf_pse_d2['country_code'].value_counts().index, hue_order=mf_pse_d2['main_sector'].value_counts().index)\n",
    "plt.show()\n"
   ]
  },
  {
   "cell_type": "markdown",
   "metadata": {},
   "source": [
    "##### Plotting only  top 3 sectors"
   ]
  },
  {
   "cell_type": "code",
   "execution_count": 45,
   "metadata": {
    "scrolled": false
   },
   "outputs": [
    {
     "data": {
      "text/plain": [
       "<Figure size 1080x720 with 0 Axes>"
      ]
     },
     "execution_count": 45,
     "metadata": {},
     "output_type": "execute_result"
    },
    {
     "data": {
      "text/plain": [
       "<AxesSubplot:xlabel='country_code', ylabel='count'>"
      ]
     },
     "execution_count": 45,
     "metadata": {},
     "output_type": "execute_result"
    },
    {
     "data": {
      "image/png": "[encoded data removed]",
      "text/plain": [
       "<Figure size 1080x720 with 1 Axes>"
      ]
     },
     "metadata": {
      "needs_background": "light"
     },
     "output_type": "display_data"
    }
   ],
   "source": [
    "dft1=mf_pse_d2[(mf_pse_d2[\"country_code\"] == \"USA\") & (mf_pse_d2['main_sector'].isin(['Others','Cleantech / Semiconductors','Social, Finance, Analytics, Advertising']))]\n",
    "dft2=mf_pse_d2[(mf_pse_d2[\"country_code\"] == \"GBR\") & (mf_pse_d2['main_sector'].isin(['Others','Cleantech / Semiconductors','Social, Finance, Analytics, Advertising']))]\n",
    "dft3=mf_pse_d2[(mf_pse_d2[\"country_code\"] == \"IND\") & (mf_pse_d2['main_sector'].isin(['Others','News, Search and Messaging','Entertainment']))]\n",
    "\n",
    "frms = [dft1, dft2,dft3]\n",
    "\n",
    "dft123 = pd.concat(frms, sort=False)\n",
    "\n",
    "# Plotting a count graph\n",
    "plt.figure(figsize=[15,10])\n",
    "sns.countplot(x=\"country_code\", hue=\"main_sector\", data=dft123, order = dft123['country_code'].value_counts().index, hue_order=dft123['main_sector'].value_counts().index)\n",
    "plt.show()"
   ]
  }
 ],
 "metadata": {
  "kernelspec": {
   "display_name": "Python 3",
   "language": "python",
   "name": "python3"
  },
  "language_info": {
   "codemirror_mode": {
    "name": "ipython",
    "version": 3
   },
   "file_extension": ".py",
   "mimetype": "text/x-python",
   "name": "python",
   "nbconvert_exporter": "python",
   "pygments_lexer": "ipython3",
   "version": "3.8.5"
  }
 },
 "nbformat": 4,
 "nbformat_minor": 4
}
